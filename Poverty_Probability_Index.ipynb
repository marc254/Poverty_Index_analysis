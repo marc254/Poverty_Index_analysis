{
 "cells": [
  {
   "cell_type": "markdown",
   "metadata": {},
   "source": [
    "# Poverty_Probability_Index\n",
    "\n",
    "### The data includes the Poverty Probability Index (PPI), which estimates an individual's poverty status using 10 questions about a household’s characteristics and asset ownership, and other socioeconomic indicators which come from the Financial Inclusion Insights household surveys conducted by InterMedia."
   ]
  },
  {
   "cell_type": "markdown",
   "metadata": {},
   "source": [
    "## Problem statement: \n",
    "### The aim is to predict the probability that individuals across seven different countries live below the poverty line"
   ]
  },
  {
   "cell_type": "markdown",
   "metadata": {},
   "source": [
    "## Hypothesis :\n",
    "### 1- An individual with lower education level have a high probability to be in poverty\n",
    "### 2- An individual who is married have a lower probability to be in poverty\n",
    "### 3- Individuals in urban area have a lower probability to be in poverty"
   ]
  },
  {
   "cell_type": "code",
   "execution_count": 1,
   "metadata": {},
   "outputs": [],
   "source": [
    "import pandas as pd\n",
    "import numpy as np\n",
    "import matplotlib.pyplot as plt\n",
    "import seaborn as sns\n",
    "from pylab import rcParams"
   ]
  },
  {
   "cell_type": "code",
   "execution_count": 2,
   "metadata": {},
   "outputs": [],
   "source": [
    "%matplotlib inline\n",
    "rcParams['figure.figsize'] = 7, 3"
   ]
  },
  {
   "cell_type": "markdown",
   "metadata": {},
   "source": [
    "#### Load datasets"
   ]
  },
  {
   "cell_type": "code",
   "execution_count": 3,
   "metadata": {},
   "outputs": [],
   "source": [
    "#Loading datasets\n",
    "train = pd.read_csv('train_values.csv')\n",
    "test = pd.read_csv('test_values.csv')"
   ]
  },
  {
   "cell_type": "markdown",
   "metadata": {},
   "source": [
    "#### Combine datasets"
   ]
  },
  {
   "cell_type": "code",
   "execution_count": 4,
   "metadata": {},
   "outputs": [
    {
     "name": "stdout",
     "output_type": "stream",
     "text": [
      "(12600, 61) (8400, 60) (21000, 61)\n"
     ]
    }
   ],
   "source": [
    "#combine dataset\n",
    "\n",
    "train['source'] = 'train'\n",
    "test['source'] = 'test'\n",
    "\n",
    "pov = pd.concat([train, test], ignore_index = True, sort=True)\n",
    "print(train.shape, test.shape, pov.shape)"
   ]
  },
  {
   "cell_type": "markdown",
   "metadata": {},
   "source": [
    "## Data exploration"
   ]
  },
  {
   "cell_type": "code",
   "execution_count": 5,
   "metadata": {},
   "outputs": [
    {
     "data": {
      "text/html": [
       "<div>\n",
       "<style scoped>\n",
       "    .dataframe tbody tr th:only-of-type {\n",
       "        vertical-align: middle;\n",
       "    }\n",
       "\n",
       "    .dataframe tbody tr th {\n",
       "        vertical-align: top;\n",
       "    }\n",
       "\n",
       "    .dataframe thead th {\n",
       "        text-align: right;\n",
       "    }\n",
       "</style>\n",
       "<table border=\"1\" class=\"dataframe\">\n",
       "  <thead>\n",
       "    <tr style=\"text-align: right;\">\n",
       "      <th></th>\n",
       "      <th>active_bank_user</th>\n",
       "      <th>active_formal_nbfi_user</th>\n",
       "      <th>active_informal_nbfi_user</th>\n",
       "      <th>active_mm_user</th>\n",
       "      <th>advanced_phone_use</th>\n",
       "      <th>age</th>\n",
       "      <th>avg_shock_strength_last_year</th>\n",
       "      <th>bank_interest_rate</th>\n",
       "      <th>borrowed_for_daily_expenses_last_year</th>\n",
       "      <th>borrowed_for_emergency_last_year</th>\n",
       "      <th>...</th>\n",
       "      <th>phone_technology</th>\n",
       "      <th>poverty_probability</th>\n",
       "      <th>reg_bank_acct</th>\n",
       "      <th>reg_formal_nbfi_account</th>\n",
       "      <th>reg_mm_acct</th>\n",
       "      <th>relationship_to_hh_head</th>\n",
       "      <th>religion</th>\n",
       "      <th>row_id</th>\n",
       "      <th>share_hh_income_provided</th>\n",
       "      <th>source</th>\n",
       "    </tr>\n",
       "  </thead>\n",
       "  <tbody>\n",
       "    <tr>\n",
       "      <td>0</td>\n",
       "      <td>True</td>\n",
       "      <td>False</td>\n",
       "      <td>False</td>\n",
       "      <td>False</td>\n",
       "      <td>False</td>\n",
       "      <td>18.0</td>\n",
       "      <td>0.0</td>\n",
       "      <td>NaN</td>\n",
       "      <td>False</td>\n",
       "      <td>False</td>\n",
       "      <td>...</td>\n",
       "      <td>0</td>\n",
       "      <td>0.515</td>\n",
       "      <td>True</td>\n",
       "      <td>False</td>\n",
       "      <td>False</td>\n",
       "      <td>Other</td>\n",
       "      <td>P</td>\n",
       "      <td>0</td>\n",
       "      <td>1.0</td>\n",
       "      <td>train</td>\n",
       "    </tr>\n",
       "    <tr>\n",
       "      <td>1</td>\n",
       "      <td>True</td>\n",
       "      <td>False</td>\n",
       "      <td>False</td>\n",
       "      <td>False</td>\n",
       "      <td>False</td>\n",
       "      <td>30.0</td>\n",
       "      <td>0.0</td>\n",
       "      <td>NaN</td>\n",
       "      <td>False</td>\n",
       "      <td>False</td>\n",
       "      <td>...</td>\n",
       "      <td>1</td>\n",
       "      <td>0.981</td>\n",
       "      <td>True</td>\n",
       "      <td>False</td>\n",
       "      <td>False</td>\n",
       "      <td>Other</td>\n",
       "      <td>P</td>\n",
       "      <td>1</td>\n",
       "      <td>NaN</td>\n",
       "      <td>train</td>\n",
       "    </tr>\n",
       "    <tr>\n",
       "      <td>2</td>\n",
       "      <td>False</td>\n",
       "      <td>False</td>\n",
       "      <td>False</td>\n",
       "      <td>False</td>\n",
       "      <td>False</td>\n",
       "      <td>20.0</td>\n",
       "      <td>0.0</td>\n",
       "      <td>NaN</td>\n",
       "      <td>False</td>\n",
       "      <td>False</td>\n",
       "      <td>...</td>\n",
       "      <td>1</td>\n",
       "      <td>0.982</td>\n",
       "      <td>False</td>\n",
       "      <td>False</td>\n",
       "      <td>False</td>\n",
       "      <td>Spouse</td>\n",
       "      <td>Q</td>\n",
       "      <td>2</td>\n",
       "      <td>1.0</td>\n",
       "      <td>train</td>\n",
       "    </tr>\n",
       "    <tr>\n",
       "      <td>3</td>\n",
       "      <td>False</td>\n",
       "      <td>False</td>\n",
       "      <td>False</td>\n",
       "      <td>False</td>\n",
       "      <td>False</td>\n",
       "      <td>61.0</td>\n",
       "      <td>0.0</td>\n",
       "      <td>NaN</td>\n",
       "      <td>False</td>\n",
       "      <td>False</td>\n",
       "      <td>...</td>\n",
       "      <td>0</td>\n",
       "      <td>0.879</td>\n",
       "      <td>False</td>\n",
       "      <td>False</td>\n",
       "      <td>False</td>\n",
       "      <td>Head</td>\n",
       "      <td>Q</td>\n",
       "      <td>3</td>\n",
       "      <td>NaN</td>\n",
       "      <td>train</td>\n",
       "    </tr>\n",
       "    <tr>\n",
       "      <td>4</td>\n",
       "      <td>False</td>\n",
       "      <td>False</td>\n",
       "      <td>False</td>\n",
       "      <td>False</td>\n",
       "      <td>False</td>\n",
       "      <td>26.0</td>\n",
       "      <td>0.0</td>\n",
       "      <td>NaN</td>\n",
       "      <td>False</td>\n",
       "      <td>False</td>\n",
       "      <td>...</td>\n",
       "      <td>0</td>\n",
       "      <td>0.796</td>\n",
       "      <td>False</td>\n",
       "      <td>False</td>\n",
       "      <td>False</td>\n",
       "      <td>Spouse</td>\n",
       "      <td>X</td>\n",
       "      <td>4</td>\n",
       "      <td>2.0</td>\n",
       "      <td>train</td>\n",
       "    </tr>\n",
       "  </tbody>\n",
       "</table>\n",
       "<p>5 rows × 61 columns</p>\n",
       "</div>"
      ],
      "text/plain": [
       "   active_bank_user  active_formal_nbfi_user  active_informal_nbfi_user  \\\n",
       "0              True                    False                      False   \n",
       "1              True                    False                      False   \n",
       "2             False                    False                      False   \n",
       "3             False                    False                      False   \n",
       "4             False                    False                      False   \n",
       "\n",
       "   active_mm_user  advanced_phone_use   age  avg_shock_strength_last_year  \\\n",
       "0           False               False  18.0                           0.0   \n",
       "1           False               False  30.0                           0.0   \n",
       "2           False               False  20.0                           0.0   \n",
       "3           False               False  61.0                           0.0   \n",
       "4           False               False  26.0                           0.0   \n",
       "\n",
       "   bank_interest_rate  borrowed_for_daily_expenses_last_year  \\\n",
       "0                 NaN                                  False   \n",
       "1                 NaN                                  False   \n",
       "2                 NaN                                  False   \n",
       "3                 NaN                                  False   \n",
       "4                 NaN                                  False   \n",
       "\n",
       "   borrowed_for_emergency_last_year  ...  phone_technology  \\\n",
       "0                             False  ...                 0   \n",
       "1                             False  ...                 1   \n",
       "2                             False  ...                 1   \n",
       "3                             False  ...                 0   \n",
       "4                             False  ...                 0   \n",
       "\n",
       "   poverty_probability  reg_bank_acct  reg_formal_nbfi_account  reg_mm_acct  \\\n",
       "0                0.515           True                    False        False   \n",
       "1                0.981           True                    False        False   \n",
       "2                0.982          False                    False        False   \n",
       "3                0.879          False                    False        False   \n",
       "4                0.796          False                    False        False   \n",
       "\n",
       "   relationship_to_hh_head  religion  row_id  share_hh_income_provided  source  \n",
       "0                    Other         P       0                       1.0   train  \n",
       "1                    Other         P       1                       NaN   train  \n",
       "2                   Spouse         Q       2                       1.0   train  \n",
       "3                     Head         Q       3                       NaN   train  \n",
       "4                   Spouse         X       4                       2.0   train  \n",
       "\n",
       "[5 rows x 61 columns]"
      ]
     },
     "execution_count": 5,
     "metadata": {},
     "output_type": "execute_result"
    }
   ],
   "source": [
    "pov.head(5)"
   ]
  },
  {
   "cell_type": "code",
   "execution_count": 6,
   "metadata": {},
   "outputs": [
    {
     "data": {
      "text/plain": [
       "Index(['active_bank_user', 'active_formal_nbfi_user',\n",
       "       'active_informal_nbfi_user', 'active_mm_user', 'advanced_phone_use',\n",
       "       'age', 'avg_shock_strength_last_year', 'bank_interest_rate',\n",
       "       'borrowed_for_daily_expenses_last_year',\n",
       "       'borrowed_for_emergency_last_year',\n",
       "       'borrowed_for_home_or_biz_last_year', 'borrowing_recency', 'can_add',\n",
       "       'can_calc_compounding', 'can_calc_percents', 'can_call', 'can_divide',\n",
       "       'can_make_transaction', 'can_text', 'can_use_internet',\n",
       "       'cash_property_savings', 'country', 'education_level',\n",
       "       'employed_last_year', 'employment_category_last_year',\n",
       "       'employment_type_last_year', 'female', 'financially_included',\n",
       "       'formal_savings', 'has_insurance', 'has_investment',\n",
       "       'income_ag_livestock_last_year', 'income_friends_family_last_year',\n",
       "       'income_government_last_year', 'income_own_business_last_year',\n",
       "       'income_private_sector_last_year', 'income_public_sector_last_year',\n",
       "       'informal_savings', 'is_urban', 'literacy', 'married',\n",
       "       'mfi_interest_rate', 'mm_interest_rate', 'nonreg_active_mm_user',\n",
       "       'num_financial_activities_last_year',\n",
       "       'num_formal_institutions_last_year',\n",
       "       'num_informal_institutions_last_year', 'num_shocks_last_year',\n",
       "       'num_times_borrowed_last_year', 'other_fsp_interest_rate',\n",
       "       'phone_ownership', 'phone_technology', 'poverty_probability',\n",
       "       'reg_bank_acct', 'reg_formal_nbfi_account', 'reg_mm_acct',\n",
       "       'relationship_to_hh_head', 'religion', 'row_id',\n",
       "       'share_hh_income_provided', 'source'],\n",
       "      dtype='object')"
      ]
     },
     "execution_count": 6,
     "metadata": {},
     "output_type": "execute_result"
    }
   ],
   "source": [
    "pov.columns"
   ]
  },
  {
   "cell_type": "code",
   "execution_count": 7,
   "metadata": {},
   "outputs": [
    {
     "name": "stdout",
     "output_type": "stream",
     "text": [
      "<class 'pandas.core.frame.DataFrame'>\n",
      "RangeIndex: 21000 entries, 0 to 20999\n",
      "Data columns (total 61 columns):\n",
      "active_bank_user                         21000 non-null bool\n",
      "active_formal_nbfi_user                  21000 non-null bool\n",
      "active_informal_nbfi_user                21000 non-null bool\n",
      "active_mm_user                           21000 non-null bool\n",
      "advanced_phone_use                       21000 non-null bool\n",
      "age                                      21000 non-null float64\n",
      "avg_shock_strength_last_year             21000 non-null float64\n",
      "bank_interest_rate                       511 non-null float64\n",
      "borrowed_for_daily_expenses_last_year    21000 non-null bool\n",
      "borrowed_for_emergency_last_year         21000 non-null bool\n",
      "borrowed_for_home_or_biz_last_year       21000 non-null bool\n",
      "borrowing_recency                        21000 non-null int64\n",
      "can_add                                  21000 non-null bool\n",
      "can_calc_compounding                     21000 non-null bool\n",
      "can_calc_percents                        21000 non-null bool\n",
      "can_call                                 21000 non-null bool\n",
      "can_divide                               21000 non-null bool\n",
      "can_make_transaction                     21000 non-null bool\n",
      "can_text                                 21000 non-null bool\n",
      "can_use_internet                         21000 non-null bool\n",
      "cash_property_savings                    21000 non-null bool\n",
      "country                                  21000 non-null object\n",
      "education_level                          20615 non-null float64\n",
      "employed_last_year                       21000 non-null bool\n",
      "employment_category_last_year            21000 non-null object\n",
      "employment_type_last_year                21000 non-null object\n",
      "female                                   21000 non-null bool\n",
      "financially_included                     21000 non-null bool\n",
      "formal_savings                           21000 non-null bool\n",
      "has_insurance                            21000 non-null bool\n",
      "has_investment                           21000 non-null bool\n",
      "income_ag_livestock_last_year            21000 non-null bool\n",
      "income_friends_family_last_year          21000 non-null bool\n",
      "income_government_last_year              21000 non-null bool\n",
      "income_own_business_last_year            21000 non-null bool\n",
      "income_private_sector_last_year          21000 non-null bool\n",
      "income_public_sector_last_year           21000 non-null bool\n",
      "informal_savings                         21000 non-null bool\n",
      "is_urban                                 21000 non-null bool\n",
      "literacy                                 21000 non-null bool\n",
      "married                                  21000 non-null bool\n",
      "mfi_interest_rate                        299 non-null float64\n",
      "mm_interest_rate                         245 non-null float64\n",
      "nonreg_active_mm_user                    21000 non-null bool\n",
      "num_financial_activities_last_year       21000 non-null int64\n",
      "num_formal_institutions_last_year        21000 non-null int64\n",
      "num_informal_institutions_last_year      21000 non-null int64\n",
      "num_shocks_last_year                     21000 non-null int64\n",
      "num_times_borrowed_last_year             21000 non-null int64\n",
      "other_fsp_interest_rate                  409 non-null float64\n",
      "phone_ownership                          21000 non-null int64\n",
      "phone_technology                         21000 non-null int64\n",
      "poverty_probability                      12600 non-null float64\n",
      "reg_bank_acct                            21000 non-null bool\n",
      "reg_formal_nbfi_account                  21000 non-null bool\n",
      "reg_mm_acct                              21000 non-null bool\n",
      "relationship_to_hh_head                  21000 non-null object\n",
      "religion                                 21000 non-null object\n",
      "row_id                                   21000 non-null int64\n",
      "share_hh_income_provided                 20502 non-null float64\n",
      "source                                   21000 non-null object\n",
      "dtypes: bool(37), float64(9), int64(9), object(6)\n",
      "memory usage: 4.6+ MB\n"
     ]
    }
   ],
   "source": [
    "pov.info()"
   ]
  },
  {
   "cell_type": "code",
   "execution_count": 8,
   "metadata": {},
   "outputs": [
    {
     "data": {
      "text/plain": [
       "active_bank_user               0\n",
       "active_formal_nbfi_user        0\n",
       "active_informal_nbfi_user      0\n",
       "active_mm_user                 0\n",
       "advanced_phone_use             0\n",
       "                            ... \n",
       "relationship_to_hh_head        0\n",
       "religion                       0\n",
       "row_id                         0\n",
       "share_hh_income_provided     498\n",
       "source                         0\n",
       "Length: 61, dtype: int64"
      ]
     },
     "execution_count": 8,
     "metadata": {},
     "output_type": "execute_result"
    }
   ],
   "source": [
    "pov.isnull().sum()"
   ]
  },
  {
   "cell_type": "code",
   "execution_count": 9,
   "metadata": {
    "scrolled": true
   },
   "outputs": [
    {
     "data": {
      "text/html": [
       "<div>\n",
       "<style scoped>\n",
       "    .dataframe tbody tr th:only-of-type {\n",
       "        vertical-align: middle;\n",
       "    }\n",
       "\n",
       "    .dataframe tbody tr th {\n",
       "        vertical-align: top;\n",
       "    }\n",
       "\n",
       "    .dataframe thead th {\n",
       "        text-align: right;\n",
       "    }\n",
       "</style>\n",
       "<table border=\"1\" class=\"dataframe\">\n",
       "  <thead>\n",
       "    <tr style=\"text-align: right;\">\n",
       "      <th></th>\n",
       "      <th>age</th>\n",
       "      <th>avg_shock_strength_last_year</th>\n",
       "      <th>bank_interest_rate</th>\n",
       "      <th>borrowing_recency</th>\n",
       "      <th>education_level</th>\n",
       "      <th>mfi_interest_rate</th>\n",
       "      <th>mm_interest_rate</th>\n",
       "      <th>num_financial_activities_last_year</th>\n",
       "      <th>num_formal_institutions_last_year</th>\n",
       "      <th>num_informal_institutions_last_year</th>\n",
       "      <th>num_shocks_last_year</th>\n",
       "      <th>num_times_borrowed_last_year</th>\n",
       "      <th>other_fsp_interest_rate</th>\n",
       "      <th>phone_ownership</th>\n",
       "      <th>phone_technology</th>\n",
       "      <th>poverty_probability</th>\n",
       "      <th>row_id</th>\n",
       "      <th>share_hh_income_provided</th>\n",
       "    </tr>\n",
       "  </thead>\n",
       "  <tbody>\n",
       "    <tr>\n",
       "      <td>count</td>\n",
       "      <td>21000.000000</td>\n",
       "      <td>21000.000000</td>\n",
       "      <td>511.000000</td>\n",
       "      <td>21000.000000</td>\n",
       "      <td>20615.000000</td>\n",
       "      <td>299.000000</td>\n",
       "      <td>245.000000</td>\n",
       "      <td>21000.000000</td>\n",
       "      <td>21000.000000</td>\n",
       "      <td>21000.000000</td>\n",
       "      <td>21000.000000</td>\n",
       "      <td>21000.000000</td>\n",
       "      <td>409.000000</td>\n",
       "      <td>21000.000000</td>\n",
       "      <td>21000.000000</td>\n",
       "      <td>12600.000000</td>\n",
       "      <td>21000.000000</td>\n",
       "      <td>20502.000000</td>\n",
       "    </tr>\n",
       "    <tr>\n",
       "      <td>mean</td>\n",
       "      <td>36.369095</td>\n",
       "      <td>2.100225</td>\n",
       "      <td>9.712622</td>\n",
       "      <td>0.864524</td>\n",
       "      <td>1.317536</td>\n",
       "      <td>11.352007</td>\n",
       "      <td>9.131327</td>\n",
       "      <td>1.554143</td>\n",
       "      <td>0.717476</td>\n",
       "      <td>0.186714</td>\n",
       "      <td>1.090619</td>\n",
       "      <td>0.656905</td>\n",
       "      <td>8.461614</td>\n",
       "      <td>1.467286</td>\n",
       "      <td>1.207333</td>\n",
       "      <td>0.611272</td>\n",
       "      <td>5459.500000</td>\n",
       "      <td>2.885231</td>\n",
       "    </tr>\n",
       "    <tr>\n",
       "      <td>std</td>\n",
       "      <td>15.211887</td>\n",
       "      <td>2.019062</td>\n",
       "      <td>13.128242</td>\n",
       "      <td>0.960617</td>\n",
       "      <td>0.907730</td>\n",
       "      <td>10.350488</td>\n",
       "      <td>11.694569</td>\n",
       "      <td>2.035922</td>\n",
       "      <td>0.801826</td>\n",
       "      <td>0.468895</td>\n",
       "      <td>1.191237</td>\n",
       "      <td>0.924633</td>\n",
       "      <td>11.221073</td>\n",
       "      <td>0.776504</td>\n",
       "      <td>1.092757</td>\n",
       "      <td>0.291476</td>\n",
       "      <td>3368.818835</td>\n",
       "      <td>1.560339</td>\n",
       "    </tr>\n",
       "    <tr>\n",
       "      <td>min</td>\n",
       "      <td>15.000000</td>\n",
       "      <td>0.000000</td>\n",
       "      <td>0.000000</td>\n",
       "      <td>0.000000</td>\n",
       "      <td>0.000000</td>\n",
       "      <td>0.000000</td>\n",
       "      <td>0.000000</td>\n",
       "      <td>0.000000</td>\n",
       "      <td>0.000000</td>\n",
       "      <td>0.000000</td>\n",
       "      <td>0.000000</td>\n",
       "      <td>0.000000</td>\n",
       "      <td>0.000000</td>\n",
       "      <td>0.000000</td>\n",
       "      <td>0.000000</td>\n",
       "      <td>0.000000</td>\n",
       "      <td>0.000000</td>\n",
       "      <td>1.000000</td>\n",
       "    </tr>\n",
       "    <tr>\n",
       "      <td>25%</td>\n",
       "      <td>25.000000</td>\n",
       "      <td>0.000000</td>\n",
       "      <td>2.000000</td>\n",
       "      <td>0.000000</td>\n",
       "      <td>1.000000</td>\n",
       "      <td>5.000000</td>\n",
       "      <td>3.000000</td>\n",
       "      <td>0.000000</td>\n",
       "      <td>0.000000</td>\n",
       "      <td>0.000000</td>\n",
       "      <td>0.000000</td>\n",
       "      <td>0.000000</td>\n",
       "      <td>2.500000</td>\n",
       "      <td>1.000000</td>\n",
       "      <td>0.000000</td>\n",
       "      <td>0.394000</td>\n",
       "      <td>2624.750000</td>\n",
       "      <td>1.000000</td>\n",
       "    </tr>\n",
       "    <tr>\n",
       "      <td>50%</td>\n",
       "      <td>33.000000</td>\n",
       "      <td>2.000000</td>\n",
       "      <td>8.000000</td>\n",
       "      <td>0.000000</td>\n",
       "      <td>1.000000</td>\n",
       "      <td>10.000000</td>\n",
       "      <td>7.000000</td>\n",
       "      <td>1.000000</td>\n",
       "      <td>1.000000</td>\n",
       "      <td>0.000000</td>\n",
       "      <td>1.000000</td>\n",
       "      <td>0.000000</td>\n",
       "      <td>5.000000</td>\n",
       "      <td>2.000000</td>\n",
       "      <td>1.000000</td>\n",
       "      <td>0.633000</td>\n",
       "      <td>5249.500000</td>\n",
       "      <td>2.000000</td>\n",
       "    </tr>\n",
       "    <tr>\n",
       "      <td>75%</td>\n",
       "      <td>45.000000</td>\n",
       "      <td>4.000000</td>\n",
       "      <td>14.000000</td>\n",
       "      <td>2.000000</td>\n",
       "      <td>2.000000</td>\n",
       "      <td>15.000000</td>\n",
       "      <td>10.000000</td>\n",
       "      <td>3.000000</td>\n",
       "      <td>1.000000</td>\n",
       "      <td>0.000000</td>\n",
       "      <td>2.000000</td>\n",
       "      <td>1.000000</td>\n",
       "      <td>10.000000</td>\n",
       "      <td>2.000000</td>\n",
       "      <td>2.000000</td>\n",
       "      <td>0.879000</td>\n",
       "      <td>7874.250000</td>\n",
       "      <td>5.000000</td>\n",
       "    </tr>\n",
       "    <tr>\n",
       "      <td>max</td>\n",
       "      <td>117.000000</td>\n",
       "      <td>5.000000</td>\n",
       "      <td>100.000000</td>\n",
       "      <td>2.000000</td>\n",
       "      <td>3.000000</td>\n",
       "      <td>100.000000</td>\n",
       "      <td>100.000000</td>\n",
       "      <td>10.000000</td>\n",
       "      <td>6.000000</td>\n",
       "      <td>4.000000</td>\n",
       "      <td>5.000000</td>\n",
       "      <td>3.000000</td>\n",
       "      <td>100.000000</td>\n",
       "      <td>2.000000</td>\n",
       "      <td>3.000000</td>\n",
       "      <td>1.000000</td>\n",
       "      <td>12599.000000</td>\n",
       "      <td>5.000000</td>\n",
       "    </tr>\n",
       "  </tbody>\n",
       "</table>\n",
       "</div>"
      ],
      "text/plain": [
       "                age  avg_shock_strength_last_year  bank_interest_rate  \\\n",
       "count  21000.000000                  21000.000000          511.000000   \n",
       "mean      36.369095                      2.100225            9.712622   \n",
       "std       15.211887                      2.019062           13.128242   \n",
       "min       15.000000                      0.000000            0.000000   \n",
       "25%       25.000000                      0.000000            2.000000   \n",
       "50%       33.000000                      2.000000            8.000000   \n",
       "75%       45.000000                      4.000000           14.000000   \n",
       "max      117.000000                      5.000000          100.000000   \n",
       "\n",
       "       borrowing_recency  education_level  mfi_interest_rate  \\\n",
       "count       21000.000000     20615.000000         299.000000   \n",
       "mean            0.864524         1.317536          11.352007   \n",
       "std             0.960617         0.907730          10.350488   \n",
       "min             0.000000         0.000000           0.000000   \n",
       "25%             0.000000         1.000000           5.000000   \n",
       "50%             0.000000         1.000000          10.000000   \n",
       "75%             2.000000         2.000000          15.000000   \n",
       "max             2.000000         3.000000         100.000000   \n",
       "\n",
       "       mm_interest_rate  num_financial_activities_last_year  \\\n",
       "count        245.000000                        21000.000000   \n",
       "mean           9.131327                            1.554143   \n",
       "std           11.694569                            2.035922   \n",
       "min            0.000000                            0.000000   \n",
       "25%            3.000000                            0.000000   \n",
       "50%            7.000000                            1.000000   \n",
       "75%           10.000000                            3.000000   \n",
       "max          100.000000                           10.000000   \n",
       "\n",
       "       num_formal_institutions_last_year  num_informal_institutions_last_year  \\\n",
       "count                       21000.000000                         21000.000000   \n",
       "mean                            0.717476                             0.186714   \n",
       "std                             0.801826                             0.468895   \n",
       "min                             0.000000                             0.000000   \n",
       "25%                             0.000000                             0.000000   \n",
       "50%                             1.000000                             0.000000   \n",
       "75%                             1.000000                             0.000000   \n",
       "max                             6.000000                             4.000000   \n",
       "\n",
       "       num_shocks_last_year  num_times_borrowed_last_year  \\\n",
       "count          21000.000000                  21000.000000   \n",
       "mean               1.090619                      0.656905   \n",
       "std                1.191237                      0.924633   \n",
       "min                0.000000                      0.000000   \n",
       "25%                0.000000                      0.000000   \n",
       "50%                1.000000                      0.000000   \n",
       "75%                2.000000                      1.000000   \n",
       "max                5.000000                      3.000000   \n",
       "\n",
       "       other_fsp_interest_rate  phone_ownership  phone_technology  \\\n",
       "count               409.000000     21000.000000      21000.000000   \n",
       "mean                  8.461614         1.467286          1.207333   \n",
       "std                  11.221073         0.776504          1.092757   \n",
       "min                   0.000000         0.000000          0.000000   \n",
       "25%                   2.500000         1.000000          0.000000   \n",
       "50%                   5.000000         2.000000          1.000000   \n",
       "75%                  10.000000         2.000000          2.000000   \n",
       "max                 100.000000         2.000000          3.000000   \n",
       "\n",
       "       poverty_probability        row_id  share_hh_income_provided  \n",
       "count         12600.000000  21000.000000              20502.000000  \n",
       "mean              0.611272   5459.500000                  2.885231  \n",
       "std               0.291476   3368.818835                  1.560339  \n",
       "min               0.000000      0.000000                  1.000000  \n",
       "25%               0.394000   2624.750000                  1.000000  \n",
       "50%               0.633000   5249.500000                  2.000000  \n",
       "75%               0.879000   7874.250000                  5.000000  \n",
       "max               1.000000  12599.000000                  5.000000  "
      ]
     },
     "execution_count": 9,
     "metadata": {},
     "output_type": "execute_result"
    }
   ],
   "source": [
    "pov.describe()"
   ]
  },
  {
   "cell_type": "markdown",
   "metadata": {},
   "source": [
    "### Univariate analysis"
   ]
  },
  {
   "cell_type": "code",
   "execution_count": 10,
   "metadata": {},
   "outputs": [
    {
     "data": {
      "image/png": "[encoded data removed]",
      "text/plain": [
       "<Figure size 504x216 with 1 Axes>"
      ]
     },
     "metadata": {
      "needs_background": "light"
     },
     "output_type": "display_data"
    }
   ],
   "source": [
    "plt.hist(train['poverty_probability'])\n",
    "plt.title('Probability Distribution \\n')\n",
    "plt.xlabel('Probability')\n",
    "plt.ylabel('Frequency')\n",
    "plt.show()"
   ]
  },
  {
   "cell_type": "code",
   "execution_count": 11,
   "metadata": {
    "scrolled": true
   },
   "outputs": [
    {
     "data": {
      "image/png": "[encoded data removed]",
      "text/plain": [
       "<Figure size 504x216 with 1 Axes>"
      ]
     },
     "metadata": {
      "needs_background": "light"
     },
     "output_type": "display_data"
    }
   ],
   "source": [
    "#univariate analysis on age\n",
    "plt.hist(pov.age)\n",
    "plt.xlabel('Age')\n",
    "plt.ylabel('Frequency')\n",
    "plt.title('Age distribution\\n')\n",
    "plt.show()"
   ]
  },
  {
   "cell_type": "code",
   "execution_count": 12,
   "metadata": {},
   "outputs": [
    {
     "data": {
      "image/png": "[encoded data removed]",
      "text/plain": [
       "<Figure size 504x216 with 1 Axes>"
      ]
     },
     "metadata": {
      "needs_background": "light"
     },
     "output_type": "display_data"
    }
   ],
   "source": [
    "plt.hist(pov['avg_shock_strength_last_year'].value_counts(), bins = 10)\n",
    "plt.show()"
   ]
  },
  {
   "cell_type": "code",
   "execution_count": 13,
   "metadata": {},
   "outputs": [
    {
     "name": "stdout",
     "output_type": "stream",
     "text": [
      "1.0    7497\n",
      "2.0    6859\n",
      "0.0    4277\n",
      "3.0    1982\n",
      "Name: education_level, dtype: int64\n"
     ]
    }
   ],
   "source": [
    "#Education level frequency\n",
    "education = pov['education_level'].value_counts()\n",
    "print(education)"
   ]
  },
  {
   "cell_type": "code",
   "execution_count": 14,
   "metadata": {},
   "outputs": [
    {
     "name": "stdout",
     "output_type": "stream",
     "text": [
      "1.0    36.0\n",
      "2.0    33.0\n",
      "0.0    21.0\n",
      "3.0    10.0\n",
      "Name: education_level, dtype: float64\n"
     ]
    }
   ],
   "source": [
    "#Education level frequency\n",
    "education_pct = round(pov['education_level'].value_counts()/sum(education)*100)\n",
    "print(education_pct)"
   ]
  },
  {
   "cell_type": "code",
   "execution_count": 15,
   "metadata": {
    "scrolled": false
   },
   "outputs": [
    {
     "data": {
      "image/png": "[encoded data removed]",
      "text/plain": [
       "<Figure size 576x288 with 1 Axes>"
      ]
     },
     "metadata": {
      "needs_background": "light"
     },
     "output_type": "display_data"
    }
   ],
   "source": [
    "fig = plt.figure(figsize=(8,4))\n",
    "ax1 = fig.add_subplot(121)\n",
    "ax1.set_xlabel('Education Level\\n')\n",
    "ax1.set_ylabel('Frequency')\n",
    "ax1.set_title(\"Education level frequency\\n\")\n",
    "education.plot(kind='bar')\n",
    "plt.show()"
   ]
  },
  {
   "cell_type": "code",
   "execution_count": 16,
   "metadata": {
    "scrolled": true
   },
   "outputs": [
    {
     "data": {
      "image/png": "[encoded data removed]",
      "text/plain": [
       "<Figure size 504x216 with 1 Axes>"
      ]
     },
     "metadata": {},
     "output_type": "display_data"
    }
   ],
   "source": [
    "married = pov['married'].value_counts()\n",
    "married_value = ['Married', 'Not married']\n",
    "plt.pie(married, labels = married, colors = ['gray', 'magenta'])\n",
    "plt.title('Marital Status\\n')\n",
    "plt.legend(married_value, loc='best')\n",
    "plt.show()"
   ]
  },
  {
   "cell_type": "code",
   "execution_count": 17,
   "metadata": {},
   "outputs": [
    {
     "name": "stdout",
     "output_type": "stream",
     "text": [
      "True     13621\n",
      "False     7379\n",
      "Name: married, dtype: int64\n"
     ]
    }
   ],
   "source": [
    "married = pov['married'].value_counts()\n",
    "print(married)"
   ]
  },
  {
   "cell_type": "code",
   "execution_count": 18,
   "metadata": {
    "scrolled": true
   },
   "outputs": [
    {
     "name": "stdout",
     "output_type": "stream",
     "text": [
      "True     65.0\n",
      "False    35.0\n",
      "Name: married, dtype: float64\n"
     ]
    }
   ],
   "source": [
    "married_pct = round(pov['married'].value_counts() / sum(married) * 100)\n",
    "print(married_pct)"
   ]
  },
  {
   "cell_type": "code",
   "execution_count": 19,
   "metadata": {},
   "outputs": [
    {
     "data": {
      "image/png": "[encoded data removed]",
      "text/plain": [
       "<Figure size 504x216 with 1 Axes>"
      ]
     },
     "metadata": {},
     "output_type": "display_data"
    }
   ],
   "source": [
    "urban_area = pov['is_urban'].value_counts()\n",
    "urban_value = ['Not in Urban Area', 'In Urban Area']\n",
    "plt.pie(urban_area, labels = urban_area)\n",
    "plt.title('Distribution of individuals\\n')\n",
    "plt.legend(urban_value, loc='center')\n",
    "plt.show()"
   ]
  },
  {
   "cell_type": "code",
   "execution_count": 20,
   "metadata": {},
   "outputs": [
    {
     "data": {
      "text/plain": [
       "False    14076\n",
       "True      6924\n",
       "Name: is_urban, dtype: int64"
      ]
     },
     "execution_count": 20,
     "metadata": {},
     "output_type": "execute_result"
    }
   ],
   "source": [
    "pov['is_urban'].value_counts()"
   ]
  },
  {
   "cell_type": "code",
   "execution_count": 21,
   "metadata": {},
   "outputs": [
    {
     "name": "stdout",
     "output_type": "stream",
     "text": [
      "False    67.0\n",
      "True     33.0\n",
      "Name: is_urban, dtype: float64\n"
     ]
    }
   ],
   "source": [
    "urban_area_pct = round(pov['is_urban'].value_counts() / sum(urban_area) * 100)\n",
    "print(urban_area_pct)"
   ]
  },
  {
   "cell_type": "code",
   "execution_count": 22,
   "metadata": {},
   "outputs": [
    {
     "name": "stdout",
     "output_type": "stream",
     "text": [
      "True     11670\n",
      "False     9330\n",
      "Name: female, dtype: int64\n"
     ]
    }
   ],
   "source": [
    "gender = pov['female'].value_counts()\n",
    "print(gender)"
   ]
  },
  {
   "cell_type": "code",
   "execution_count": 23,
   "metadata": {
    "scrolled": true
   },
   "outputs": [
    {
     "data": {
      "image/png": "[encoded data removed]",
      "text/plain": [
       "<Figure size 504x216 with 1 Axes>"
      ]
     },
     "metadata": {},
     "output_type": "display_data"
    }
   ],
   "source": [
    "gender = pov['female'].value_counts()\n",
    "gender_value = ['Female', 'Male']\n",
    "plt.pie(gender, labels = gender, colors = ['red', 'green'])\n",
    "plt.title('Gender distribution\\n')\n",
    "plt.legend(gender_value, loc='best')\n",
    "plt.show()"
   ]
  },
  {
   "cell_type": "code",
   "execution_count": 24,
   "metadata": {},
   "outputs": [
    {
     "name": "stdout",
     "output_type": "stream",
     "text": [
      "True     56.0\n",
      "False    44.0\n",
      "Name: female, dtype: float64\n"
     ]
    }
   ],
   "source": [
    "gender_pct = round(pov['female'].value_counts() / sum(gender) * 100)\n",
    "print(gender_pct)"
   ]
  },
  {
   "cell_type": "code",
   "execution_count": 25,
   "metadata": {},
   "outputs": [
    {
     "name": "stdout",
     "output_type": "stream",
     "text": [
      "False    16688\n",
      "True      4312\n",
      "Name: active_bank_user, dtype: int64\n"
     ]
    }
   ],
   "source": [
    "bank_user = pov['active_bank_user'].value_counts()\n",
    "print(bank_user)"
   ]
  },
  {
   "cell_type": "code",
   "execution_count": 26,
   "metadata": {
    "scrolled": false
   },
   "outputs": [
    {
     "data": {
      "image/png": "[encoded data removed]",
      "text/plain": [
       "<Figure size 504x216 with 1 Axes>"
      ]
     },
     "metadata": {},
     "output_type": "display_data"
    }
   ],
   "source": [
    "bank_value = ['Not Active', 'Active']\n",
    "plt.pie(bank_user, labels = bank_user)\n",
    "plt.title('Active Bank Users\\n')\n",
    "plt.legend(bank_value, loc='best')\n",
    "plt.show()"
   ]
  },
  {
   "cell_type": "code",
   "execution_count": 27,
   "metadata": {
    "scrolled": true
   },
   "outputs": [
    {
     "name": "stdout",
     "output_type": "stream",
     "text": [
      "['housewife_or_student' 'employed' 'other' 'unemployed'\n",
      " 'retired_or_disabled']\n"
     ]
    }
   ],
   "source": [
    "emp_cat = pov['employment_category_last_year'].unique()\n",
    "print(emp_cat)"
   ]
  },
  {
   "cell_type": "code",
   "execution_count": 28,
   "metadata": {},
   "outputs": [
    {
     "name": "stdout",
     "output_type": "stream",
     "text": [
      "employed                12363\n",
      "housewife_or_student     6124\n",
      "other                    1105\n",
      "unemployed                719\n",
      "retired_or_disabled       689\n",
      "Name: employment_category_last_year, dtype: int64\n"
     ]
    }
   ],
   "source": [
    "emp_cat = pov['employment_category_last_year'].value_counts()\n",
    "print(emp_cat)"
   ]
  },
  {
   "cell_type": "code",
   "execution_count": 29,
   "metadata": {
    "scrolled": true
   },
   "outputs": [
    {
     "data": {
      "image/png": "[encoded data removed]",
      "text/plain": [
       "<Figure size 504x216 with 1 Axes>"
      ]
     },
     "metadata": {},
     "output_type": "display_data"
    }
   ],
   "source": [
    "emp_cat = pov['employment_category_last_year'].value_counts()\n",
    "plt.pie(emp_cat, labels = emp_cat.index, colors = ['#A9A8BC', 'yellow', 'red', 'green', '#CCB608'])\n",
    "plt.title('Employment Category\\n')\n",
    "#plt.legend(emp_cat.index, loc='top_right')\n",
    "plt.show()"
   ]
  },
  {
   "cell_type": "code",
   "execution_count": 30,
   "metadata": {},
   "outputs": [
    {
     "name": "stdout",
     "output_type": "stream",
     "text": [
      "employed                12363\n",
      "housewife_or_student     6124\n",
      "other                    1105\n",
      "unemployed                719\n",
      "retired_or_disabled       689\n",
      "Name: employment_category_last_year, dtype: int64\n"
     ]
    }
   ],
   "source": [
    "emp_cat = pov['employment_category_last_year'].value_counts()\n",
    "print(emp_cat)"
   ]
  },
  {
   "cell_type": "code",
   "execution_count": 31,
   "metadata": {},
   "outputs": [
    {
     "name": "stdout",
     "output_type": "stream",
     "text": [
      "employed                59.0\n",
      "housewife_or_student    29.0\n",
      "other                    5.0\n",
      "unemployed               3.0\n",
      "retired_or_disabled      3.0\n",
      "Name: employment_category_last_year, dtype: float64\n"
     ]
    }
   ],
   "source": [
    "emp_cat_pct = round(pov['employment_category_last_year'].value_counts() / sum(emp_cat) * 100)\n",
    "print(emp_cat_pct)"
   ]
  },
  {
   "cell_type": "code",
   "execution_count": 32,
   "metadata": {
    "scrolled": false
   },
   "outputs": [
    {
     "data": {
      "image/png": "[encoded data removed]",
      "text/plain": [
       "<Figure size 504x216 with 1 Axes>"
      ]
     },
     "metadata": {},
     "output_type": "display_data"
    }
   ],
   "source": [
    "emp_type = pov['employment_type_last_year'].value_counts()\n",
    "plt.pie(emp_type, labels = emp_type.index, colors = ['#A9A9A9', '#FFA07A', '#B0E0E6', '#FFE4C4', '#BDB76B'])\n",
    "plt.title('Employment Type\\n')\n",
    "#plt.legend(emp_type.index, loc='best')\n",
    "plt.show()"
   ]
  },
  {
   "cell_type": "code",
   "execution_count": 33,
   "metadata": {},
   "outputs": [
    {
     "name": "stdout",
     "output_type": "stream",
     "text": [
      "not_working           7532\n",
      "self_employed         5164\n",
      "irregular_seasonal    3872\n",
      "salaried              3327\n",
      "other                 1105\n",
      "Name: employment_type_last_year, dtype: int64\n"
     ]
    }
   ],
   "source": [
    "emp_type = pov['employment_type_last_year'].value_counts()\n",
    "print(emp_type)"
   ]
  },
  {
   "cell_type": "code",
   "execution_count": 34,
   "metadata": {},
   "outputs": [
    {
     "name": "stdout",
     "output_type": "stream",
     "text": [
      "not_working           36.0\n",
      "self_employed         25.0\n",
      "irregular_seasonal    18.0\n",
      "salaried              16.0\n",
      "other                  5.0\n",
      "Name: employment_type_last_year, dtype: float64\n"
     ]
    }
   ],
   "source": [
    "emp_type_pct = round(pov['employment_type_last_year'].value_counts()/sum(emp_type)*100)\n",
    "print(emp_type_pct)"
   ]
  },
  {
   "cell_type": "markdown",
   "metadata": {},
   "source": [
    "### Bivariate analysis"
   ]
  },
  {
   "cell_type": "code",
   "execution_count": 35,
   "metadata": {
    "scrolled": false
   },
   "outputs": [
    {
     "data": {
      "image/png": "[encoded data removed]",
      "text/plain": [
       "<Figure size 504x216 with 1 Axes>"
      ]
     },
     "metadata": {
      "needs_background": "light"
     },
     "output_type": "display_data"
    }
   ],
   "source": [
    "fig = plt.figure()\n",
    "ax = fig.add_axes([.1,.1,1,1])\n",
    "\n",
    "sns.boxplot(x='education_level', y='poverty_probability', data=pov, palette='hls')\n",
    "ax.set_xticks(range(4))\n",
    "\n",
    "#ax.set_xticklabels(education_value, rotation=30, fontsize='medium')\n",
    "ax.set_title('Poverty probability for each education level\\n')\n",
    "\n",
    "ax.set_xlabel('Education Level')\n",
    "ax.set_ylabel('Probability')\n",
    "\n",
    "#ax.legend(gender_value, loc='best') \n",
    "plt.show()"
   ]
  },
  {
   "cell_type": "code",
   "execution_count": 36,
   "metadata": {},
   "outputs": [
    {
     "data": {
      "image/png": "[encoded data removed]",
      "text/plain": [
       "<Figure size 504x216 with 1 Axes>"
      ]
     },
     "metadata": {
      "needs_background": "light"
     },
     "output_type": "display_data"
    }
   ],
   "source": [
    "fig = plt.figure()\n",
    "ax = fig.add_axes([.1,.1,1,1])\n",
    "\n",
    "sns.boxplot(x='is_urban', y='poverty_probability', data=pov, palette='hls')\n",
    "ax.set_xticks(range(2))\n",
    "\n",
    "ax.set_xticklabels(['None Urban', 'Urban'], rotation=30, fontsize='medium')\n",
    "ax.set_title('Poverty probability for each leaving zone\\n')\n",
    "\n",
    "ax.set_xlabel('Leaving zone')\n",
    "ax.set_ylabel('Probability')\n",
    "\n",
    "#ax.legend(gender_value, loc='best') \n",
    "plt.show()"
   ]
  },
  {
   "cell_type": "code",
   "execution_count": 37,
   "metadata": {},
   "outputs": [
    {
     "data": {
      "image/png": "[encoded data removed]",
      "text/plain": [
       "<Figure size 504x216 with 1 Axes>"
      ]
     },
     "metadata": {
      "needs_background": "light"
     },
     "output_type": "display_data"
    }
   ],
   "source": [
    "fig = plt.figure()\n",
    "ax = fig.add_axes([.1,.1,1,1])\n",
    "\n",
    "sns.boxplot(x='country', y='poverty_probability', data=pov, palette='hls')\n",
    "ax.set_xticks(range(7))\n",
    "\n",
    "#ax.set_xticklabels(['None Urban', 'Urban'], rotation=30, fontsize='medium')\n",
    "ax.set_title('Poverty probability for each country\\n')\n",
    "\n",
    "ax.set_xlabel('Country')\n",
    "ax.set_ylabel('Probability')\n",
    "\n",
    "#ax.legend(gender_value, loc='best') \n",
    "plt.show()"
   ]
  },
  {
   "cell_type": "code",
   "execution_count": 38,
   "metadata": {},
   "outputs": [
    {
     "name": "stdout",
     "output_type": "stream",
     "text": [
      "female   False  True \n",
      "married              \n",
      "False     3347   4032\n",
      "True      5983   7638\n"
     ]
    }
   ],
   "source": [
    "gender_status = pd.crosstab(pov['married'], pov['female'])\n",
    "print(gender_status)"
   ]
  },
  {
   "cell_type": "code",
   "execution_count": 39,
   "metadata": {
    "scrolled": false
   },
   "outputs": [
    {
     "data": {
      "image/png": "[encoded data removed]",
      "text/plain": [
       "<Figure size 504x216 with 1 Axes>"
      ]
     },
     "metadata": {
      "needs_background": "light"
     },
     "output_type": "display_data"
    }
   ],
   "source": [
    "gender_status.plot(kind='bar')\n",
    "plt.legend(['Male', 'Female'], loc='best')\n",
    "plt.xlabel('Married')\n",
    "plt.title('Gender distribution for marital status\\n')\n",
    "plt.show()"
   ]
  },
  {
   "cell_type": "markdown",
   "metadata": {},
   "source": [
    "##### Note that there are more female that are married and not married than male"
   ]
  },
  {
   "cell_type": "code",
   "execution_count": 40,
   "metadata": {
    "scrolled": true
   },
   "outputs": [
    {
     "data": {
      "image/png": "[encoded data removed]",
      "text/plain": [
       "<Figure size 504x216 with 1 Axes>"
      ]
     },
     "metadata": {
      "needs_background": "light"
     },
     "output_type": "display_data"
    }
   ],
   "source": [
    "#Boxplot age vs gender\n",
    "fig = plt.figure()\n",
    "ax = fig.add_axes([.1,.1,1,1])\n",
    "\n",
    "sns.boxplot(x='female', y='age', data=pov, palette='hls')\n",
    "ax.set_xticks(range(2))\n",
    "\n",
    "ax.set_xticklabels(gender_value, rotation=30, fontsize='medium')\n",
    "ax.set_title('Age distribution among the gender\\n')\n",
    "\n",
    "ax.set_xlabel('Gender')\n",
    "ax.set_ylabel('Age')\n",
    "\n",
    "#ax.legend(gender_value, loc='best') \n",
    "plt.show()"
   ]
  },
  {
   "cell_type": "markdown",
   "metadata": {},
   "source": [
    "##### Average age is almost same for both female and male; Note that we have more outliers in male group"
   ]
  },
  {
   "cell_type": "code",
   "execution_count": 41,
   "metadata": {
    "scrolled": false
   },
   "outputs": [
    {
     "name": "stdout",
     "output_type": "stream",
     "text": [
      "active_bank_user  False  True \n",
      "female                        \n",
      "False              6862   2468\n",
      "True               9826   1844\n"
     ]
    }
   ],
   "source": [
    "gender_bank = pd.crosstab(pov['female'], pov['active_bank_user'])\n",
    "print(gender_bank)"
   ]
  },
  {
   "cell_type": "code",
   "execution_count": 42,
   "metadata": {
    "scrolled": true
   },
   "outputs": [
    {
     "data": {
      "image/png": "[encoded data removed]",
      "text/plain": [
       "<Figure size 504x216 with 1 Axes>"
      ]
     },
     "metadata": {
      "needs_background": "light"
     },
     "output_type": "display_data"
    }
   ],
   "source": [
    "gender_bank.plot(kind='bar')\n",
    "plt.legend(['Not Active', 'Active'], loc='best')\n",
    "plt.xlabel('Female')\n",
    "plt.ylabel('Bank users frequency')\n",
    "plt.title('Gender distribution for bank users\\n')\n",
    "plt.show()"
   ]
  },
  {
   "cell_type": "markdown",
   "metadata": {},
   "source": [
    "##### Note that male are more actively using bank than female. But overall, the respondents are not actively using bank."
   ]
  },
  {
   "cell_type": "code",
   "execution_count": 43,
   "metadata": {},
   "outputs": [
    {
     "name": "stdout",
     "output_type": "stream",
     "text": [
      "female           False  True \n",
      "education_level              \n",
      "0.0               34.0   66.0\n",
      "1.0               42.0   58.0\n",
      "2.0               49.0   51.0\n",
      "3.0               61.0   39.0\n"
     ]
    }
   ],
   "source": [
    "edu_gender = round(pd.crosstab(pov['education_level'],pov['female'],normalize='index')*100)\n",
    "print(edu_gender)"
   ]
  },
  {
   "cell_type": "code",
   "execution_count": 44,
   "metadata": {
    "scrolled": false
   },
   "outputs": [
    {
     "data": {
      "image/png": "[encoded data removed]",
      "text/plain": [
       "<Figure size 504x216 with 1 Axes>"
      ]
     },
     "metadata": {
      "needs_background": "light"
     },
     "output_type": "display_data"
    }
   ],
   "source": [
    "edu_gender.plot(kind='bar', stacked = True)\n",
    "plt.legend(['Male', 'Female'], loc='best')\n",
    "plt.xlabel('Education level')\n",
    "plt.ylabel('Female')\n",
    "plt.title('Gender distribution for education level\\n')\n",
    "plt.show()"
   ]
  },
  {
   "cell_type": "markdown",
   "metadata": {},
   "source": [
    "##### The main education level in female group is level 1 and in male group it is level 2. Level 3 education has more male"
   ]
  },
  {
   "cell_type": "code",
   "execution_count": 45,
   "metadata": {},
   "outputs": [
    {
     "name": "stdout",
     "output_type": "stream",
     "text": [
      "is_urban         False  True \n",
      "education_level              \n",
      "0.0               79.0   21.0\n",
      "1.0               73.0   27.0\n",
      "2.0               59.0   41.0\n",
      "3.0               43.0   57.0\n"
     ]
    }
   ],
   "source": [
    "edu_urban = round(pd.crosstab(pov['education_level'],pov['is_urban'],normalize='index') * 100)\n",
    "print(edu_urban)"
   ]
  },
  {
   "cell_type": "code",
   "execution_count": 46,
   "metadata": {
    "scrolled": true
   },
   "outputs": [
    {
     "data": {
      "image/png": "[encoded data removed]",
      "text/plain": [
       "<Figure size 504x216 with 1 Axes>"
      ]
     },
     "metadata": {
      "needs_background": "light"
     },
     "output_type": "display_data"
    }
   ],
   "source": [
    "edu_urban.plot(kind='bar', stacked = True, color = [\"green\", 'red'])\n",
    "plt.legend(urban_value,loc='best')\n",
    "plt.xlabel('Education level')\n",
    "plt.ylabel('In Urban area')\n",
    "plt.title('Urban area distribution for education level\\n')\n",
    "plt.show()"
   ]
  },
  {
   "cell_type": "markdown",
   "metadata": {},
   "source": [
    "#### People leaving in urban area are more educated. Most of them have level 2 or 3 and in none urban area the predominant levels are 0 and 1"
   ]
  },
  {
   "cell_type": "code",
   "execution_count": 47,
   "metadata": {},
   "outputs": [
    {
     "name": "stdout",
     "output_type": "stream",
     "text": [
      "employment_type_last_year  irregular_seasonal  not_working    other  salaried  \\\n",
      "female                                                                          \n",
      "False                                0.225616     0.186602  0.05552  0.241586   \n",
      "True                                 0.151414     0.496230  0.05030  0.091945   \n",
      "\n",
      "employment_type_last_year  self_employed  \n",
      "female                                    \n",
      "False                           0.290675  \n",
      "True                            0.210111  \n"
     ]
    }
   ],
   "source": [
    "emp_gender = pd.crosstab(pov['female'],pov['employment_type_last_year'],normalize='index')\n",
    "print(emp_gender)"
   ]
  },
  {
   "cell_type": "code",
   "execution_count": 48,
   "metadata": {
    "scrolled": true
   },
   "outputs": [
    {
     "data": {
      "image/png": "[encoded data removed]",
      "text/plain": [
       "<Figure size 504x216 with 1 Axes>"
      ]
     },
     "metadata": {
      "needs_background": "light"
     },
     "output_type": "display_data"
    }
   ],
   "source": [
    "emp_gender.plot(kind='bar', stacked = True)\n",
    "plt.legend(loc='best')\n",
    "plt.xlabel('Female')\n",
    "plt.ylabel('Employment Category')\n",
    "plt.title('Gender distribution for employment category\\n')\n",
    "plt.show()"
   ]
  },
  {
   "cell_type": "code",
   "execution_count": 49,
   "metadata": {},
   "outputs": [
    {
     "name": "stdout",
     "output_type": "stream",
     "text": [
      "is_urban                       False  True \n",
      "employment_category_last_year              \n",
      "employed                        68.0   32.0\n",
      "housewife_or_student            66.0   34.0\n",
      "other                           71.0   29.0\n",
      "retired_or_disabled             67.0   33.0\n",
      "unemployed                      59.0   41.0\n"
     ]
    }
   ],
   "source": [
    "emp_urban = round(pd.crosstab(pov['employment_category_last_year'],pov['is_urban'],normalize='index')*100)\n",
    "print(emp_urban)"
   ]
  },
  {
   "cell_type": "code",
   "execution_count": 50,
   "metadata": {
    "scrolled": true
   },
   "outputs": [
    {
     "data": {
      "image/png": "[encoded data removed]",
      "text/plain": [
       "<Figure size 504x216 with 1 Axes>"
      ]
     },
     "metadata": {
      "needs_background": "light"
     },
     "output_type": "display_data"
    }
   ],
   "source": [
    "emp_urban.plot(kind='bar', stacked = True, color = ['gray', 'purple'])\n",
    "plt.legend(urban_value, loc='best')\n",
    "plt.xlabel('Employment Category')\n",
    "plt.ylabel('In Urban area')\n",
    "plt.title('Distribution for employment category\\n in urban area and not urban area \\n')\n",
    "plt.show()"
   ]
  },
  {
   "cell_type": "code",
   "execution_count": 51,
   "metadata": {},
   "outputs": [],
   "source": [
    "edu_level = [0, 1, 2, 3]"
   ]
  },
  {
   "cell_type": "code",
   "execution_count": 52,
   "metadata": {
    "scrolled": true
   },
   "outputs": [
    {
     "data": {
      "image/png": "[encoded data removed]",
      "text/plain": [
       "<Figure size 504x216 with 1 Axes>"
      ]
     },
     "metadata": {
      "needs_background": "light"
     },
     "output_type": "display_data"
    }
   ],
   "source": [
    "#Boxplot age vs gender\n",
    "fig = plt.figure()\n",
    "ax = fig.add_axes([.1,.1,1,1])\n",
    "\n",
    "sns.boxplot(x='education_level', y='age', data=pov, palette='hls')\n",
    "ax.set_xticks(range(4))\n",
    "\n",
    "ax.set_xticklabels(edu_level, fontsize='medium')\n",
    "ax.set_title('Age distribution among the education levels\\n')\n",
    "\n",
    "ax.set_xlabel('Education Level')\n",
    "ax.set_ylabel('Age')\n",
    "\n",
    "#ax.legend(gender_value, loc='best') \n",
    "plt.show()"
   ]
  },
  {
   "cell_type": "markdown",
   "metadata": {},
   "source": [
    "#### Note that people with higher education level are younger."
   ]
  },
  {
   "cell_type": "markdown",
   "metadata": {},
   "source": [
    "#### Heatmap"
   ]
  },
  {
   "cell_type": "code",
   "execution_count": 53,
   "metadata": {},
   "outputs": [
    {
     "data": {
      "image/png": "[encoded data removed]",
      "text/plain": [
       "<Figure size 1080x576 with 2 Axes>"
      ]
     },
     "metadata": {
      "needs_background": "light"
     },
     "output_type": "display_data"
    }
   ],
   "source": [
    "corr = pov.corr()\n",
    "plt.figure(figsize=(15,8))\n",
    "ax = sns.heatmap(\n",
    "    corr, \n",
    "    vmin=-1, vmax=1, center=0,\n",
    "    cmap=sns.diverging_palette(10, 110, n=100),\n",
    "    square=True\n",
    ")\n",
    "ax.set_xticklabels(\n",
    "    ax.get_xticklabels(),\n",
    "    rotation=45,\n",
    "    horizontalalignment='right'\n",
    ")\n",
    "plt.show()"
   ]
  },
  {
   "cell_type": "markdown",
   "metadata": {},
   "source": []
  },
  {
   "cell_type": "markdown",
   "metadata": {},
   "source": [
    "## Data cleaning"
   ]
  },
  {
   "cell_type": "code",
   "execution_count": 54,
   "metadata": {
    "scrolled": true
   },
   "outputs": [
    {
     "name": "stdout",
     "output_type": "stream",
     "text": [
      "\n",
      "Frequency of Categories for variable active_bank_user\n",
      "False    16688\n",
      "True      4312\n",
      "Name: active_bank_user, dtype: int64\n",
      "\n",
      "Frequency of Categories for variable active_formal_nbfi_user\n",
      "False    19816\n",
      "True      1184\n",
      "Name: active_formal_nbfi_user, dtype: int64\n",
      "\n",
      "Frequency of Categories for variable active_informal_nbfi_user\n",
      "False    17983\n",
      "True      3017\n",
      "Name: active_informal_nbfi_user, dtype: int64\n",
      "\n",
      "Frequency of Categories for variable active_mm_user\n",
      "False    15963\n",
      "True      5037\n",
      "Name: active_mm_user, dtype: int64\n",
      "\n",
      "Frequency of Categories for variable advanced_phone_use\n",
      "False    14776\n",
      "True      6224\n",
      "Name: advanced_phone_use, dtype: int64\n",
      "\n",
      "Frequency of Categories for variable borrowed_for_daily_expenses_last_year\n",
      "False    17219\n",
      "True      3781\n",
      "Name: borrowed_for_daily_expenses_last_year, dtype: int64\n",
      "\n",
      "Frequency of Categories for variable borrowed_for_emergency_last_year\n",
      "False    16511\n",
      "True      4489\n",
      "Name: borrowed_for_emergency_last_year, dtype: int64\n",
      "\n",
      "Frequency of Categories for variable borrowed_for_home_or_biz_last_year\n",
      "False    18093\n",
      "True      2907\n",
      "Name: borrowed_for_home_or_biz_last_year, dtype: int64\n",
      "\n",
      "Frequency of Categories for variable can_add\n",
      "True     19128\n",
      "False     1872\n",
      "Name: can_add, dtype: int64\n",
      "\n",
      "Frequency of Categories for variable can_calc_compounding\n",
      "False    11669\n",
      "True      9331\n",
      "Name: can_calc_compounding, dtype: int64\n",
      "\n",
      "Frequency of Categories for variable can_calc_percents\n",
      "False    12710\n",
      "True      8290\n",
      "Name: can_calc_percents, dtype: int64\n",
      "\n",
      "Frequency of Categories for variable can_call\n",
      "True     16013\n",
      "False     4987\n",
      "Name: can_call, dtype: int64\n",
      "\n",
      "Frequency of Categories for variable can_divide\n",
      "True     17288\n",
      "False     3712\n",
      "Name: can_divide, dtype: int64\n",
      "\n",
      "Frequency of Categories for variable can_make_transaction\n",
      "False    15131\n",
      "True      5869\n",
      "Name: can_make_transaction, dtype: int64\n",
      "\n",
      "Frequency of Categories for variable can_text\n",
      "False    10783\n",
      "True     10217\n",
      "Name: can_text, dtype: int64\n",
      "\n",
      "Frequency of Categories for variable can_use_internet\n",
      "False    15852\n",
      "True      5148\n",
      "Name: can_use_internet, dtype: int64\n",
      "\n",
      "Frequency of Categories for variable cash_property_savings\n",
      "False    12929\n",
      "True      8071\n",
      "Name: cash_property_savings, dtype: int64\n",
      "\n",
      "Frequency of Categories for variable employed_last_year\n",
      "True     12363\n",
      "False     8637\n",
      "Name: employed_last_year, dtype: int64\n",
      "\n",
      "Frequency of Categories for variable female\n",
      "True     11670\n",
      "False     9330\n",
      "Name: female, dtype: int64\n",
      "\n",
      "Frequency of Categories for variable financially_included\n",
      "False    10620\n",
      "True     10380\n",
      "Name: financially_included, dtype: int64\n",
      "\n",
      "Frequency of Categories for variable formal_savings\n",
      "False    14714\n",
      "True      6286\n",
      "Name: formal_savings, dtype: int64\n",
      "\n",
      "Frequency of Categories for variable has_insurance\n",
      "False    18274\n",
      "True      2726\n",
      "Name: has_insurance, dtype: int64\n",
      "\n",
      "Frequency of Categories for variable has_investment\n",
      "False    14638\n",
      "True      6362\n",
      "Name: has_investment, dtype: int64\n",
      "\n",
      "Frequency of Categories for variable income_ag_livestock_last_year\n",
      "False    13175\n",
      "True      7825\n",
      "Name: income_ag_livestock_last_year, dtype: int64\n",
      "\n",
      "Frequency of Categories for variable income_friends_family_last_year\n",
      "False    12354\n",
      "True      8646\n",
      "Name: income_friends_family_last_year, dtype: int64\n",
      "\n",
      "Frequency of Categories for variable income_government_last_year\n",
      "False    19815\n",
      "True      1185\n",
      "Name: income_government_last_year, dtype: int64\n",
      "\n",
      "Frequency of Categories for variable income_own_business_last_year\n",
      "False    14735\n",
      "True      6265\n",
      "Name: income_own_business_last_year, dtype: int64\n",
      "\n",
      "Frequency of Categories for variable income_private_sector_last_year\n",
      "False    18950\n",
      "True      2050\n",
      "Name: income_private_sector_last_year, dtype: int64\n",
      "\n",
      "Frequency of Categories for variable income_public_sector_last_year\n",
      "False    20253\n",
      "True       747\n",
      "Name: income_public_sector_last_year, dtype: int64\n",
      "\n",
      "Frequency of Categories for variable informal_savings\n",
      "False    17330\n",
      "True      3670\n",
      "Name: informal_savings, dtype: int64\n",
      "\n",
      "Frequency of Categories for variable is_urban\n",
      "False    14076\n",
      "True      6924\n",
      "Name: is_urban, dtype: int64\n",
      "\n",
      "Frequency of Categories for variable literacy\n",
      "True     12855\n",
      "False     8145\n",
      "Name: literacy, dtype: int64\n",
      "\n",
      "Frequency of Categories for variable married\n",
      "True     13621\n",
      "False     7379\n",
      "Name: married, dtype: int64\n",
      "\n",
      "Frequency of Categories for variable nonreg_active_mm_user\n",
      "False    19183\n",
      "True      1817\n",
      "Name: nonreg_active_mm_user, dtype: int64\n",
      "\n",
      "Frequency of Categories for variable reg_bank_acct\n",
      "False    15095\n",
      "True      5905\n",
      "Name: reg_bank_acct, dtype: int64\n",
      "\n",
      "Frequency of Categories for variable reg_formal_nbfi_account\n",
      "False    19305\n",
      "True      1695\n",
      "Name: reg_formal_nbfi_account, dtype: int64\n",
      "\n",
      "Frequency of Categories for variable reg_mm_acct\n",
      "False    15072\n",
      "True      5928\n",
      "Name: reg_mm_acct, dtype: int64\n"
     ]
    }
   ],
   "source": [
    "#filter categorical variables\n",
    "categorical_columns = [x for x in pov.dtypes.index if pov.dtypes[x] == 'bool']\n",
    "#exclude ID cols and source\n",
    "#categorical_columns = [x for x in categorical_columns\n",
    " #                     if x not in ['Item_Identifer', 'Outlet_Identifier', 'source']]\n",
    "#print frequency of categories\n",
    "for col in categorical_columns:\n",
    "    print('\\nFrequency of Categories for variable %s'%col)\n",
    "    print(pov[col].value_counts())"
   ]
  },
  {
   "cell_type": "code",
   "execution_count": 55,
   "metadata": {
    "scrolled": true
   },
   "outputs": [
    {
     "name": "stdout",
     "output_type": "stream",
     "text": [
      "no. of cells in column active_bank_user with null values: 0\n",
      "no. of cells in column active_formal_nbfi_user with null values: 0\n",
      "no. of cells in column active_informal_nbfi_user with null values: 0\n",
      "no. of cells in column active_mm_user with null values: 0\n",
      "no. of cells in column advanced_phone_use with null values: 0\n",
      "no. of cells in column age with null values: 0\n",
      "no. of cells in column avg_shock_strength_last_year with null values: 0\n",
      "no. of cells in column bank_interest_rate with null values: 20489\n",
      "no. of cells in column borrowed_for_daily_expenses_last_year with null values: 0\n",
      "no. of cells in column borrowed_for_emergency_last_year with null values: 0\n",
      "no. of cells in column borrowed_for_home_or_biz_last_year with null values: 0\n",
      "no. of cells in column borrowing_recency with null values: 0\n",
      "no. of cells in column can_add with null values: 0\n",
      "no. of cells in column can_calc_compounding with null values: 0\n",
      "no. of cells in column can_calc_percents with null values: 0\n",
      "no. of cells in column can_call with null values: 0\n",
      "no. of cells in column can_divide with null values: 0\n",
      "no. of cells in column can_make_transaction with null values: 0\n",
      "no. of cells in column can_text with null values: 0\n",
      "no. of cells in column can_use_internet with null values: 0\n",
      "no. of cells in column cash_property_savings with null values: 0\n",
      "no. of cells in column country with null values: 0\n",
      "no. of cells in column education_level with null values: 385\n",
      "no. of cells in column employed_last_year with null values: 0\n",
      "no. of cells in column employment_category_last_year with null values: 0\n",
      "no. of cells in column employment_type_last_year with null values: 0\n",
      "no. of cells in column female with null values: 0\n",
      "no. of cells in column financially_included with null values: 0\n",
      "no. of cells in column formal_savings with null values: 0\n",
      "no. of cells in column has_insurance with null values: 0\n",
      "no. of cells in column has_investment with null values: 0\n",
      "no. of cells in column income_ag_livestock_last_year with null values: 0\n",
      "no. of cells in column income_friends_family_last_year with null values: 0\n",
      "no. of cells in column income_government_last_year with null values: 0\n",
      "no. of cells in column income_own_business_last_year with null values: 0\n",
      "no. of cells in column income_private_sector_last_year with null values: 0\n",
      "no. of cells in column income_public_sector_last_year with null values: 0\n",
      "no. of cells in column informal_savings with null values: 0\n",
      "no. of cells in column is_urban with null values: 0\n",
      "no. of cells in column literacy with null values: 0\n",
      "no. of cells in column married with null values: 0\n",
      "no. of cells in column mfi_interest_rate with null values: 20701\n",
      "no. of cells in column mm_interest_rate with null values: 20755\n",
      "no. of cells in column nonreg_active_mm_user with null values: 0\n",
      "no. of cells in column num_financial_activities_last_year with null values: 0\n",
      "no. of cells in column num_formal_institutions_last_year with null values: 0\n",
      "no. of cells in column num_informal_institutions_last_year with null values: 0\n",
      "no. of cells in column num_shocks_last_year with null values: 0\n",
      "no. of cells in column num_times_borrowed_last_year with null values: 0\n",
      "no. of cells in column other_fsp_interest_rate with null values: 20591\n",
      "no. of cells in column phone_ownership with null values: 0\n",
      "no. of cells in column phone_technology with null values: 0\n",
      "no. of cells in column poverty_probability with null values: 8400\n",
      "no. of cells in column reg_bank_acct with null values: 0\n",
      "no. of cells in column reg_formal_nbfi_account with null values: 0\n",
      "no. of cells in column reg_mm_acct with null values: 0\n",
      "no. of cells in column relationship_to_hh_head with null values: 0\n",
      "no. of cells in column religion with null values: 0\n",
      "no. of cells in column row_id with null values: 0\n",
      "no. of cells in column share_hh_income_provided with null values: 498\n",
      "no. of cells in column source with null values: 0\n"
     ]
    }
   ],
   "source": [
    "#find null values\n",
    "for col in pov.columns:\n",
    "    print(\"no. of cells in column\", col, \"with null values:\", pov[col].isnull().sum())"
   ]
  },
  {
   "cell_type": "code",
   "execution_count": 56,
   "metadata": {},
   "outputs": [
    {
     "name": "stdout",
     "output_type": "stream",
     "text": [
      "Missing value percentage in column bank_interest_rate :  97.57 %\n",
      "Missing value percentage in column education_level :  1.83 %\n",
      "Missing value percentage in column mfi_interest_rate :  98.58 %\n",
      "Missing value percentage in column mm_interest_rate :  98.83 %\n",
      "Missing value percentage in column other_fsp_interest_rate :  98.05 %\n",
      "Missing value percentage in column poverty_probability :  40.0 %\n",
      "Missing value percentage in column share_hh_income_provided :  2.37 %\n"
     ]
    }
   ],
   "source": [
    "for columns in pov.columns:\n",
    "    if pov[columns].isnull().sum()>0:\n",
    "        missing_col = round(pov[columns].isnull().sum() / pov.row_id.count() * 100, 2)\n",
    "        print('Missing value percentage in column', columns, ': ', missing_col, \"%\")\n",
    "    "
   ]
  },
  {
   "cell_type": "markdown",
   "metadata": {},
   "source": [
    "##### Based on the result above we will drop following columns : bank_interest_rate, mfi_interest_rate, mm_interest_rate, other_fsp_interest_rate because more than 95% of values are missing.\n",
    "##### Moreover we will drop rows with missing values in following columns because less than 3% are missing : education_level, share_hh_income_provided."
   ]
  },
  {
   "cell_type": "code",
   "execution_count": 57,
   "metadata": {},
   "outputs": [],
   "source": [
    "#drop columns\n",
    "pov = pov.drop(['bank_interest_rate', 'mfi_interest_rate', 'mm_interest_rate', 'other_fsp_interest_rate'], axis=1)"
   ]
  },
  {
   "cell_type": "markdown",
   "metadata": {},
   "source": [
    "##### Droping rows with null values"
   ]
  },
  {
   "cell_type": "code",
   "execution_count": 58,
   "metadata": {},
   "outputs": [],
   "source": [
    "pov = pov[pd.notnull(pov['education_level'])]"
   ]
  },
  {
   "cell_type": "code",
   "execution_count": 59,
   "metadata": {},
   "outputs": [],
   "source": [
    "pov = pov[pd.notnull(pov['share_hh_income_provided'])]"
   ]
  },
  {
   "cell_type": "code",
   "execution_count": 60,
   "metadata": {},
   "outputs": [
    {
     "data": {
      "text/plain": [
       "(20127, 57)"
      ]
     },
     "execution_count": 60,
     "metadata": {},
     "output_type": "execute_result"
    }
   ],
   "source": [
    "pov.shape"
   ]
  },
  {
   "cell_type": "code",
   "execution_count": 61,
   "metadata": {},
   "outputs": [
    {
     "data": {
      "text/plain": [
       "0"
      ]
     },
     "execution_count": 61,
     "metadata": {},
     "output_type": "execute_result"
    }
   ],
   "source": [
    "#check for any duplicated rows\n",
    "pov.duplicated().sum()"
   ]
  },
  {
   "cell_type": "markdown",
   "metadata": {},
   "source": [
    "#### Outliers treatment on age"
   ]
  },
  {
   "cell_type": "code",
   "execution_count": 62,
   "metadata": {},
   "outputs": [
    {
     "data": {
      "image/png": "[encoded data removed]",
      "text/plain": [
       "<Figure size 504x216 with 1 Axes>"
      ]
     },
     "metadata": {
      "needs_background": "light"
     },
     "output_type": "display_data"
    }
   ],
   "source": [
    "plt.boxplot(pov['age'])\n",
    "plt.show()"
   ]
  },
  {
   "cell_type": "code",
   "execution_count": 63,
   "metadata": {},
   "outputs": [
    {
     "name": "stdout",
     "output_type": "stream",
     "text": [
      "20.0\n"
     ]
    }
   ],
   "source": [
    "Q1 = pov.age.quantile(0.25)\n",
    "Q3 = pov.age.quantile(0.75)\n",
    "IQR = Q3 - Q1\n",
    "print(IQR)"
   ]
  },
  {
   "cell_type": "code",
   "execution_count": 64,
   "metadata": {},
   "outputs": [
    {
     "name": "stdout",
     "output_type": "stream",
     "text": [
      "19.0\n",
      "75.0\n"
     ]
    }
   ],
   "source": [
    "print(pov['age'].quantile(0.10))\n",
    "print(pov['age'].quantile(0.75) + 1.5*IQR)"
   ]
  },
  {
   "cell_type": "code",
   "execution_count": 65,
   "metadata": {},
   "outputs": [
    {
     "name": "stdout",
     "output_type": "stream",
     "text": [
      "0.7666085997960168\n"
     ]
    }
   ],
   "source": [
    "#pov['age'] = np.where(pov['age'] <2960.0, 2960.0,pov['age'])\n",
    "pov['age'] = np.where(pov['age'] >75, 75,pov['age'])\n",
    "print(pov['age'].skew())"
   ]
  },
  {
   "cell_type": "code",
   "execution_count": 66,
   "metadata": {
    "scrolled": true
   },
   "outputs": [
    {
     "data": {
      "text/plain": [
       "count    20127.000000\n",
       "mean        36.264173\n",
       "std         14.785274\n",
       "min         15.000000\n",
       "25%         25.000000\n",
       "50%         33.000000\n",
       "75%         45.000000\n",
       "max         75.000000\n",
       "Name: age, dtype: float64"
      ]
     },
     "execution_count": 66,
     "metadata": {},
     "output_type": "execute_result"
    }
   ],
   "source": [
    "pov['age'].describe()"
   ]
  },
  {
   "cell_type": "code",
   "execution_count": 67,
   "metadata": {},
   "outputs": [
    {
     "data": {
      "image/png": "[encoded data removed]",
      "text/plain": [
       "<Figure size 504x216 with 1 Axes>"
      ]
     },
     "metadata": {
      "needs_background": "light"
     },
     "output_type": "display_data"
    }
   ],
   "source": [
    "plt.boxplot(pov['age'])\n",
    "plt.show()"
   ]
  },
  {
   "cell_type": "code",
   "execution_count": 68,
   "metadata": {},
   "outputs": [],
   "source": [
    "pov_1 = pov"
   ]
  },
  {
   "cell_type": "code",
   "execution_count": 69,
   "metadata": {},
   "outputs": [
    {
     "name": "stdout",
     "output_type": "stream",
     "text": [
      "Variables type : \n",
      "\n",
      "bool       37\n",
      "int64       9\n",
      "object      6\n",
      "float64     5\n",
      "dtype: int64\n"
     ]
    }
   ],
   "source": [
    "var_type = pov_1.dtypes.value_counts()\n",
    "print('Variables type : \\n')\n",
    "print(var_type)"
   ]
  },
  {
   "cell_type": "code",
   "execution_count": 70,
   "metadata": {
    "scrolled": true
   },
   "outputs": [
    {
     "name": "stdout",
     "output_type": "stream",
     "text": [
      "<class 'pandas.core.frame.DataFrame'>\n",
      "Int64Index: 20127 entries, 0 to 20999\n",
      "Data columns (total 57 columns):\n",
      "active_bank_user                         20127 non-null bool\n",
      "active_formal_nbfi_user                  20127 non-null bool\n",
      "active_informal_nbfi_user                20127 non-null bool\n",
      "active_mm_user                           20127 non-null bool\n",
      "advanced_phone_use                       20127 non-null bool\n",
      "age                                      20127 non-null float64\n",
      "avg_shock_strength_last_year             20127 non-null float64\n",
      "borrowed_for_daily_expenses_last_year    20127 non-null bool\n",
      "borrowed_for_emergency_last_year         20127 non-null bool\n",
      "borrowed_for_home_or_biz_last_year       20127 non-null bool\n",
      "borrowing_recency                        20127 non-null int64\n",
      "can_add                                  20127 non-null bool\n",
      "can_calc_compounding                     20127 non-null bool\n",
      "can_calc_percents                        20127 non-null bool\n",
      "can_call                                 20127 non-null bool\n",
      "can_divide                               20127 non-null bool\n",
      "can_make_transaction                     20127 non-null bool\n",
      "can_text                                 20127 non-null bool\n",
      "can_use_internet                         20127 non-null bool\n",
      "cash_property_savings                    20127 non-null bool\n",
      "country                                  20127 non-null object\n",
      "education_level                          20127 non-null float64\n",
      "employed_last_year                       20127 non-null bool\n",
      "employment_category_last_year            20127 non-null object\n",
      "employment_type_last_year                20127 non-null object\n",
      "female                                   20127 non-null bool\n",
      "financially_included                     20127 non-null bool\n",
      "formal_savings                           20127 non-null bool\n",
      "has_insurance                            20127 non-null bool\n",
      "has_investment                           20127 non-null bool\n",
      "income_ag_livestock_last_year            20127 non-null bool\n",
      "income_friends_family_last_year          20127 non-null bool\n",
      "income_government_last_year              20127 non-null bool\n",
      "income_own_business_last_year            20127 non-null bool\n",
      "income_private_sector_last_year          20127 non-null bool\n",
      "income_public_sector_last_year           20127 non-null bool\n",
      "informal_savings                         20127 non-null bool\n",
      "is_urban                                 20127 non-null bool\n",
      "literacy                                 20127 non-null bool\n",
      "married                                  20127 non-null bool\n",
      "nonreg_active_mm_user                    20127 non-null bool\n",
      "num_financial_activities_last_year       20127 non-null int64\n",
      "num_formal_institutions_last_year        20127 non-null int64\n",
      "num_informal_institutions_last_year      20127 non-null int64\n",
      "num_shocks_last_year                     20127 non-null int64\n",
      "num_times_borrowed_last_year             20127 non-null int64\n",
      "phone_ownership                          20127 non-null int64\n",
      "phone_technology                         20127 non-null int64\n",
      "poverty_probability                      12068 non-null float64\n",
      "reg_bank_acct                            20127 non-null bool\n",
      "reg_formal_nbfi_account                  20127 non-null bool\n",
      "reg_mm_acct                              20127 non-null bool\n",
      "relationship_to_hh_head                  20127 non-null object\n",
      "religion                                 20127 non-null object\n",
      "row_id                                   20127 non-null int64\n",
      "share_hh_income_provided                 20127 non-null float64\n",
      "source                                   20127 non-null object\n",
      "dtypes: bool(37), float64(5), int64(9), object(6)\n",
      "memory usage: 3.9+ MB\n"
     ]
    }
   ],
   "source": [
    "pov_1.info()"
   ]
  },
  {
   "cell_type": "markdown",
   "metadata": {},
   "source": [
    "## Feature Engineering"
   ]
  },
  {
   "cell_type": "code",
   "execution_count": 71,
   "metadata": {},
   "outputs": [],
   "source": [
    "#filter boolean variables\n",
    "bool_columns = [x for x in pov.dtypes.index if pov_1.dtypes[x] == 'bool']"
   ]
  },
  {
   "cell_type": "code",
   "execution_count": 72,
   "metadata": {},
   "outputs": [],
   "source": [
    "#Label encoding for boolean variables\n",
    "for col in bool_columns:\n",
    "    pov_1[col] = pov_1[col].map({True:1,\n",
    "                             False:0})"
   ]
  },
  {
   "cell_type": "code",
   "execution_count": 73,
   "metadata": {},
   "outputs": [],
   "source": [
    "#filter categorical variables\n",
    "cat_columns = [x for x in pov_1.dtypes.index if pov_1.dtypes[x] == 'object']"
   ]
  },
  {
   "cell_type": "code",
   "execution_count": 74,
   "metadata": {},
   "outputs": [],
   "source": [
    "#Label encoding for boolean variables\n",
    "from sklearn import preprocessing \n",
    "for col in cat_columns:\n",
    "    label_enc = preprocessing.LabelEncoder() \n",
    "    pov_1[col]= label_enc.fit_transform(pov_1[col])\n"
   ]
  },
  {
   "cell_type": "code",
   "execution_count": 75,
   "metadata": {
    "scrolled": true
   },
   "outputs": [
    {
     "data": {
      "text/plain": [
       "['country',\n",
       " 'employment_category_last_year',\n",
       " 'employment_type_last_year',\n",
       " 'relationship_to_hh_head',\n",
       " 'religion',\n",
       " 'source']"
      ]
     },
     "execution_count": 75,
     "metadata": {},
     "output_type": "execute_result"
    }
   ],
   "source": [
    "cat_columns"
   ]
  },
  {
   "cell_type": "code",
   "execution_count": 76,
   "metadata": {
    "scrolled": true
   },
   "outputs": [
    {
     "name": "stdout",
     "output_type": "stream",
     "text": [
      "\n",
      "Frequency of Categories for variable country\n",
      "4    2975\n",
      "6    2962\n",
      "2    2943\n",
      "5    2934\n",
      "0    2871\n",
      "1    2865\n",
      "3    2577\n",
      "Name: country, dtype: int64\n",
      "\n",
      "Frequency of Categories for variable employment_category_last_year\n",
      "0    11949\n",
      "1     5818\n",
      "2     1032\n",
      "4      678\n",
      "3      650\n",
      "Name: employment_category_last_year, dtype: int64\n",
      "\n",
      "Frequency of Categories for variable employment_type_last_year\n",
      "1    7146\n",
      "4    4951\n",
      "0    3763\n",
      "3    3235\n",
      "2    1032\n",
      "Name: employment_type_last_year, dtype: int64\n",
      "\n",
      "Frequency of Categories for variable relationship_to_hh_head\n",
      "1    8456\n",
      "5    6592\n",
      "4    3456\n",
      "0     635\n",
      "2     518\n",
      "3     443\n",
      "6      27\n",
      "Name: relationship_to_hh_head, dtype: int64\n",
      "\n",
      "Frequency of Categories for variable religion\n",
      "3    8590\n",
      "4    8587\n",
      "2    2726\n",
      "1     142\n",
      "0      82\n",
      "Name: religion, dtype: int64\n",
      "\n",
      "Frequency of Categories for variable source\n",
      "1    12068\n",
      "0     8059\n",
      "Name: source, dtype: int64\n"
     ]
    }
   ],
   "source": [
    "for cols in cat_columns:\n",
    "    print('\\nFrequency of Categories for variable %s'%cols)\n",
    "    print(pov_1[cols].value_counts())"
   ]
  },
  {
   "cell_type": "code",
   "execution_count": 77,
   "metadata": {
    "scrolled": false
   },
   "outputs": [
    {
     "data": {
      "text/html": [
       "<div>\n",
       "<style scoped>\n",
       "    .dataframe tbody tr th:only-of-type {\n",
       "        vertical-align: middle;\n",
       "    }\n",
       "\n",
       "    .dataframe tbody tr th {\n",
       "        vertical-align: top;\n",
       "    }\n",
       "\n",
       "    .dataframe thead th {\n",
       "        text-align: right;\n",
       "    }\n",
       "</style>\n",
       "<table border=\"1\" class=\"dataframe\">\n",
       "  <thead>\n",
       "    <tr style=\"text-align: right;\">\n",
       "      <th></th>\n",
       "      <th>active_bank_user</th>\n",
       "      <th>active_formal_nbfi_user</th>\n",
       "      <th>active_informal_nbfi_user</th>\n",
       "      <th>active_mm_user</th>\n",
       "      <th>advanced_phone_use</th>\n",
       "      <th>age</th>\n",
       "      <th>avg_shock_strength_last_year</th>\n",
       "      <th>borrowed_for_daily_expenses_last_year</th>\n",
       "      <th>borrowed_for_emergency_last_year</th>\n",
       "      <th>borrowed_for_home_or_biz_last_year</th>\n",
       "      <th>...</th>\n",
       "      <th>phone_technology</th>\n",
       "      <th>poverty_probability</th>\n",
       "      <th>reg_bank_acct</th>\n",
       "      <th>reg_formal_nbfi_account</th>\n",
       "      <th>reg_mm_acct</th>\n",
       "      <th>relationship_to_hh_head</th>\n",
       "      <th>religion</th>\n",
       "      <th>row_id</th>\n",
       "      <th>share_hh_income_provided</th>\n",
       "      <th>source</th>\n",
       "    </tr>\n",
       "  </thead>\n",
       "  <tbody>\n",
       "    <tr>\n",
       "      <td>0</td>\n",
       "      <td>1</td>\n",
       "      <td>0</td>\n",
       "      <td>0</td>\n",
       "      <td>0</td>\n",
       "      <td>0</td>\n",
       "      <td>18.0</td>\n",
       "      <td>0.0</td>\n",
       "      <td>0</td>\n",
       "      <td>0</td>\n",
       "      <td>0</td>\n",
       "      <td>...</td>\n",
       "      <td>0</td>\n",
       "      <td>0.515</td>\n",
       "      <td>1</td>\n",
       "      <td>0</td>\n",
       "      <td>0</td>\n",
       "      <td>2</td>\n",
       "      <td>2</td>\n",
       "      <td>0</td>\n",
       "      <td>1.0</td>\n",
       "      <td>1</td>\n",
       "    </tr>\n",
       "    <tr>\n",
       "      <td>2</td>\n",
       "      <td>0</td>\n",
       "      <td>0</td>\n",
       "      <td>0</td>\n",
       "      <td>0</td>\n",
       "      <td>0</td>\n",
       "      <td>20.0</td>\n",
       "      <td>0.0</td>\n",
       "      <td>0</td>\n",
       "      <td>0</td>\n",
       "      <td>0</td>\n",
       "      <td>...</td>\n",
       "      <td>1</td>\n",
       "      <td>0.982</td>\n",
       "      <td>0</td>\n",
       "      <td>0</td>\n",
       "      <td>0</td>\n",
       "      <td>5</td>\n",
       "      <td>3</td>\n",
       "      <td>2</td>\n",
       "      <td>1.0</td>\n",
       "      <td>1</td>\n",
       "    </tr>\n",
       "    <tr>\n",
       "      <td>4</td>\n",
       "      <td>0</td>\n",
       "      <td>0</td>\n",
       "      <td>0</td>\n",
       "      <td>0</td>\n",
       "      <td>0</td>\n",
       "      <td>26.0</td>\n",
       "      <td>0.0</td>\n",
       "      <td>0</td>\n",
       "      <td>0</td>\n",
       "      <td>0</td>\n",
       "      <td>...</td>\n",
       "      <td>0</td>\n",
       "      <td>0.796</td>\n",
       "      <td>0</td>\n",
       "      <td>0</td>\n",
       "      <td>0</td>\n",
       "      <td>5</td>\n",
       "      <td>4</td>\n",
       "      <td>4</td>\n",
       "      <td>2.0</td>\n",
       "      <td>1</td>\n",
       "    </tr>\n",
       "    <tr>\n",
       "      <td>5</td>\n",
       "      <td>0</td>\n",
       "      <td>1</td>\n",
       "      <td>0</td>\n",
       "      <td>0</td>\n",
       "      <td>0</td>\n",
       "      <td>36.0</td>\n",
       "      <td>4.0</td>\n",
       "      <td>1</td>\n",
       "      <td>1</td>\n",
       "      <td>0</td>\n",
       "      <td>...</td>\n",
       "      <td>0</td>\n",
       "      <td>0.915</td>\n",
       "      <td>0</td>\n",
       "      <td>1</td>\n",
       "      <td>0</td>\n",
       "      <td>5</td>\n",
       "      <td>3</td>\n",
       "      <td>5</td>\n",
       "      <td>1.0</td>\n",
       "      <td>1</td>\n",
       "    </tr>\n",
       "    <tr>\n",
       "      <td>6</td>\n",
       "      <td>1</td>\n",
       "      <td>0</td>\n",
       "      <td>0</td>\n",
       "      <td>0</td>\n",
       "      <td>0</td>\n",
       "      <td>35.0</td>\n",
       "      <td>0.0</td>\n",
       "      <td>0</td>\n",
       "      <td>0</td>\n",
       "      <td>0</td>\n",
       "      <td>...</td>\n",
       "      <td>0</td>\n",
       "      <td>0.447</td>\n",
       "      <td>1</td>\n",
       "      <td>0</td>\n",
       "      <td>0</td>\n",
       "      <td>1</td>\n",
       "      <td>2</td>\n",
       "      <td>6</td>\n",
       "      <td>5.0</td>\n",
       "      <td>1</td>\n",
       "    </tr>\n",
       "  </tbody>\n",
       "</table>\n",
       "<p>5 rows × 57 columns</p>\n",
       "</div>"
      ],
      "text/plain": [
       "   active_bank_user  active_formal_nbfi_user  active_informal_nbfi_user  \\\n",
       "0                 1                        0                          0   \n",
       "2                 0                        0                          0   \n",
       "4                 0                        0                          0   \n",
       "5                 0                        1                          0   \n",
       "6                 1                        0                          0   \n",
       "\n",
       "   active_mm_user  advanced_phone_use   age  avg_shock_strength_last_year  \\\n",
       "0               0                   0  18.0                           0.0   \n",
       "2               0                   0  20.0                           0.0   \n",
       "4               0                   0  26.0                           0.0   \n",
       "5               0                   0  36.0                           4.0   \n",
       "6               0                   0  35.0                           0.0   \n",
       "\n",
       "   borrowed_for_daily_expenses_last_year  borrowed_for_emergency_last_year  \\\n",
       "0                                      0                                 0   \n",
       "2                                      0                                 0   \n",
       "4                                      0                                 0   \n",
       "5                                      1                                 1   \n",
       "6                                      0                                 0   \n",
       "\n",
       "   borrowed_for_home_or_biz_last_year  ...  phone_technology  \\\n",
       "0                                   0  ...                 0   \n",
       "2                                   0  ...                 1   \n",
       "4                                   0  ...                 0   \n",
       "5                                   0  ...                 0   \n",
       "6                                   0  ...                 0   \n",
       "\n",
       "   poverty_probability  reg_bank_acct  reg_formal_nbfi_account  reg_mm_acct  \\\n",
       "0                0.515              1                        0            0   \n",
       "2                0.982              0                        0            0   \n",
       "4                0.796              0                        0            0   \n",
       "5                0.915              0                        1            0   \n",
       "6                0.447              1                        0            0   \n",
       "\n",
       "   relationship_to_hh_head  religion  row_id  share_hh_income_provided  source  \n",
       "0                        2         2       0                       1.0       1  \n",
       "2                        5         3       2                       1.0       1  \n",
       "4                        5         4       4                       2.0       1  \n",
       "5                        5         3       5                       1.0       1  \n",
       "6                        1         2       6                       5.0       1  \n",
       "\n",
       "[5 rows x 57 columns]"
      ]
     },
     "execution_count": 77,
     "metadata": {},
     "output_type": "execute_result"
    }
   ],
   "source": [
    "pov_1.head()"
   ]
  },
  {
   "cell_type": "code",
   "execution_count": 78,
   "metadata": {},
   "outputs": [
    {
     "name": "stdout",
     "output_type": "stream",
     "text": [
      "Variables type : \n",
      "\n",
      "int64      46\n",
      "int32       6\n",
      "float64     5\n",
      "dtype: int64\n"
     ]
    }
   ],
   "source": [
    "var_type = pov_1.dtypes.value_counts()\n",
    "print('Variables type : \\n')\n",
    "print(var_type)"
   ]
  },
  {
   "cell_type": "code",
   "execution_count": 79,
   "metadata": {},
   "outputs": [
    {
     "data": {
      "text/plain": [
       "(20127, 57)"
      ]
     },
     "execution_count": 79,
     "metadata": {},
     "output_type": "execute_result"
    }
   ],
   "source": [
    "pov_1.shape"
   ]
  },
  {
   "cell_type": "code",
   "execution_count": 80,
   "metadata": {},
   "outputs": [
    {
     "data": {
      "text/plain": [
       "1    12068\n",
       "0     8059\n",
       "Name: source, dtype: int64"
      ]
     },
     "execution_count": 80,
     "metadata": {},
     "output_type": "execute_result"
    }
   ],
   "source": [
    "pov_1['source'].value_counts()"
   ]
  },
  {
   "cell_type": "code",
   "execution_count": 81,
   "metadata": {},
   "outputs": [
    {
     "name": "stdout",
     "output_type": "stream",
     "text": [
      "<class 'pandas.core.frame.DataFrame'>\n",
      "Int64Index: 20127 entries, 0 to 20999\n",
      "Data columns (total 57 columns):\n",
      "active_bank_user                         20127 non-null int64\n",
      "active_formal_nbfi_user                  20127 non-null int64\n",
      "active_informal_nbfi_user                20127 non-null int64\n",
      "active_mm_user                           20127 non-null int64\n",
      "advanced_phone_use                       20127 non-null int64\n",
      "age                                      20127 non-null float64\n",
      "avg_shock_strength_last_year             20127 non-null float64\n",
      "borrowed_for_daily_expenses_last_year    20127 non-null int64\n",
      "borrowed_for_emergency_last_year         20127 non-null int64\n",
      "borrowed_for_home_or_biz_last_year       20127 non-null int64\n",
      "borrowing_recency                        20127 non-null int64\n",
      "can_add                                  20127 non-null int64\n",
      "can_calc_compounding                     20127 non-null int64\n",
      "can_calc_percents                        20127 non-null int64\n",
      "can_call                                 20127 non-null int64\n",
      "can_divide                               20127 non-null int64\n",
      "can_make_transaction                     20127 non-null int64\n",
      "can_text                                 20127 non-null int64\n",
      "can_use_internet                         20127 non-null int64\n",
      "cash_property_savings                    20127 non-null int64\n",
      "country                                  20127 non-null int32\n",
      "education_level                          20127 non-null float64\n",
      "employed_last_year                       20127 non-null int64\n",
      "employment_category_last_year            20127 non-null int32\n",
      "employment_type_last_year                20127 non-null int32\n",
      "female                                   20127 non-null int64\n",
      "financially_included                     20127 non-null int64\n",
      "formal_savings                           20127 non-null int64\n",
      "has_insurance                            20127 non-null int64\n",
      "has_investment                           20127 non-null int64\n",
      "income_ag_livestock_last_year            20127 non-null int64\n",
      "income_friends_family_last_year          20127 non-null int64\n",
      "income_government_last_year              20127 non-null int64\n",
      "income_own_business_last_year            20127 non-null int64\n",
      "income_private_sector_last_year          20127 non-null int64\n",
      "income_public_sector_last_year           20127 non-null int64\n",
      "informal_savings                         20127 non-null int64\n",
      "is_urban                                 20127 non-null int64\n",
      "literacy                                 20127 non-null int64\n",
      "married                                  20127 non-null int64\n",
      "nonreg_active_mm_user                    20127 non-null int64\n",
      "num_financial_activities_last_year       20127 non-null int64\n",
      "num_formal_institutions_last_year        20127 non-null int64\n",
      "num_informal_institutions_last_year      20127 non-null int64\n",
      "num_shocks_last_year                     20127 non-null int64\n",
      "num_times_borrowed_last_year             20127 non-null int64\n",
      "phone_ownership                          20127 non-null int64\n",
      "phone_technology                         20127 non-null int64\n",
      "poverty_probability                      12068 non-null float64\n",
      "reg_bank_acct                            20127 non-null int64\n",
      "reg_formal_nbfi_account                  20127 non-null int64\n",
      "reg_mm_acct                              20127 non-null int64\n",
      "relationship_to_hh_head                  20127 non-null int32\n",
      "religion                                 20127 non-null int32\n",
      "row_id                                   20127 non-null int64\n",
      "share_hh_income_provided                 20127 non-null float64\n",
      "source                                   20127 non-null int32\n",
      "dtypes: float64(5), int32(6), int64(46)\n",
      "memory usage: 8.4 MB\n"
     ]
    }
   ],
   "source": [
    "pov_1.info()"
   ]
  },
  {
   "cell_type": "markdown",
   "metadata": {},
   "source": []
  },
  {
   "cell_type": "markdown",
   "metadata": {},
   "source": [
    "## Model Building"
   ]
  },
  {
   "cell_type": "markdown",
   "metadata": {},
   "source": [
    "#### Separating the train data from the predict data"
   ]
  },
  {
   "cell_type": "code",
   "execution_count": 82,
   "metadata": {},
   "outputs": [],
   "source": [
    "train_data = pov_1.loc[pov_1['source']==1, ]"
   ]
  },
  {
   "cell_type": "code",
   "execution_count": 83,
   "metadata": {},
   "outputs": [
    {
     "data": {
      "text/plain": [
       "(12068, 57)"
      ]
     },
     "execution_count": 83,
     "metadata": {},
     "output_type": "execute_result"
    }
   ],
   "source": [
    "train_data.shape"
   ]
  },
  {
   "cell_type": "code",
   "execution_count": 84,
   "metadata": {},
   "outputs": [],
   "source": [
    "predict_data = pov_1.loc[pov_1['source']==0, ]"
   ]
  },
  {
   "cell_type": "code",
   "execution_count": 85,
   "metadata": {},
   "outputs": [
    {
     "data": {
      "text/plain": [
       "(8059, 57)"
      ]
     },
     "execution_count": 85,
     "metadata": {},
     "output_type": "execute_result"
    }
   ],
   "source": [
    "predict_data.shape"
   ]
  },
  {
   "cell_type": "code",
   "execution_count": 86,
   "metadata": {},
   "outputs": [
    {
     "name": "stdout",
     "output_type": "stream",
     "text": [
      "(12068, 56)\n",
      "(12068,)\n"
     ]
    }
   ],
   "source": [
    "# Extract independent and dependent variables\n",
    "\n",
    "X = train_data.drop([\"poverty_probability\"], axis=1)\n",
    "y = train_data.loc[:, 'poverty_probability']\n",
    "print(X.shape)\n",
    "print(y.shape)"
   ]
  },
  {
   "cell_type": "code",
   "execution_count": 87,
   "metadata": {
    "scrolled": true
   },
   "outputs": [
    {
     "data": {
      "text/html": [
       "<div>\n",
       "<style scoped>\n",
       "    .dataframe tbody tr th:only-of-type {\n",
       "        vertical-align: middle;\n",
       "    }\n",
       "\n",
       "    .dataframe tbody tr th {\n",
       "        vertical-align: top;\n",
       "    }\n",
       "\n",
       "    .dataframe thead th {\n",
       "        text-align: right;\n",
       "    }\n",
       "</style>\n",
       "<table border=\"1\" class=\"dataframe\">\n",
       "  <thead>\n",
       "    <tr style=\"text-align: right;\">\n",
       "      <th></th>\n",
       "      <th>active_bank_user</th>\n",
       "      <th>active_formal_nbfi_user</th>\n",
       "      <th>active_informal_nbfi_user</th>\n",
       "      <th>active_mm_user</th>\n",
       "      <th>advanced_phone_use</th>\n",
       "      <th>age</th>\n",
       "      <th>avg_shock_strength_last_year</th>\n",
       "      <th>borrowed_for_daily_expenses_last_year</th>\n",
       "      <th>borrowed_for_emergency_last_year</th>\n",
       "      <th>borrowed_for_home_or_biz_last_year</th>\n",
       "      <th>...</th>\n",
       "      <th>phone_ownership</th>\n",
       "      <th>phone_technology</th>\n",
       "      <th>reg_bank_acct</th>\n",
       "      <th>reg_formal_nbfi_account</th>\n",
       "      <th>reg_mm_acct</th>\n",
       "      <th>relationship_to_hh_head</th>\n",
       "      <th>religion</th>\n",
       "      <th>row_id</th>\n",
       "      <th>share_hh_income_provided</th>\n",
       "      <th>source</th>\n",
       "    </tr>\n",
       "  </thead>\n",
       "  <tbody>\n",
       "    <tr>\n",
       "      <td>0</td>\n",
       "      <td>1</td>\n",
       "      <td>0</td>\n",
       "      <td>0</td>\n",
       "      <td>0</td>\n",
       "      <td>0</td>\n",
       "      <td>18.0</td>\n",
       "      <td>0.0</td>\n",
       "      <td>0</td>\n",
       "      <td>0</td>\n",
       "      <td>0</td>\n",
       "      <td>...</td>\n",
       "      <td>1</td>\n",
       "      <td>0</td>\n",
       "      <td>1</td>\n",
       "      <td>0</td>\n",
       "      <td>0</td>\n",
       "      <td>2</td>\n",
       "      <td>2</td>\n",
       "      <td>0</td>\n",
       "      <td>1.0</td>\n",
       "      <td>1</td>\n",
       "    </tr>\n",
       "    <tr>\n",
       "      <td>2</td>\n",
       "      <td>0</td>\n",
       "      <td>0</td>\n",
       "      <td>0</td>\n",
       "      <td>0</td>\n",
       "      <td>0</td>\n",
       "      <td>20.0</td>\n",
       "      <td>0.0</td>\n",
       "      <td>0</td>\n",
       "      <td>0</td>\n",
       "      <td>0</td>\n",
       "      <td>...</td>\n",
       "      <td>2</td>\n",
       "      <td>1</td>\n",
       "      <td>0</td>\n",
       "      <td>0</td>\n",
       "      <td>0</td>\n",
       "      <td>5</td>\n",
       "      <td>3</td>\n",
       "      <td>2</td>\n",
       "      <td>1.0</td>\n",
       "      <td>1</td>\n",
       "    </tr>\n",
       "    <tr>\n",
       "      <td>4</td>\n",
       "      <td>0</td>\n",
       "      <td>0</td>\n",
       "      <td>0</td>\n",
       "      <td>0</td>\n",
       "      <td>0</td>\n",
       "      <td>26.0</td>\n",
       "      <td>0.0</td>\n",
       "      <td>0</td>\n",
       "      <td>0</td>\n",
       "      <td>0</td>\n",
       "      <td>...</td>\n",
       "      <td>1</td>\n",
       "      <td>0</td>\n",
       "      <td>0</td>\n",
       "      <td>0</td>\n",
       "      <td>0</td>\n",
       "      <td>5</td>\n",
       "      <td>4</td>\n",
       "      <td>4</td>\n",
       "      <td>2.0</td>\n",
       "      <td>1</td>\n",
       "    </tr>\n",
       "    <tr>\n",
       "      <td>5</td>\n",
       "      <td>0</td>\n",
       "      <td>1</td>\n",
       "      <td>0</td>\n",
       "      <td>0</td>\n",
       "      <td>0</td>\n",
       "      <td>36.0</td>\n",
       "      <td>4.0</td>\n",
       "      <td>1</td>\n",
       "      <td>1</td>\n",
       "      <td>0</td>\n",
       "      <td>...</td>\n",
       "      <td>1</td>\n",
       "      <td>0</td>\n",
       "      <td>0</td>\n",
       "      <td>1</td>\n",
       "      <td>0</td>\n",
       "      <td>5</td>\n",
       "      <td>3</td>\n",
       "      <td>5</td>\n",
       "      <td>1.0</td>\n",
       "      <td>1</td>\n",
       "    </tr>\n",
       "    <tr>\n",
       "      <td>6</td>\n",
       "      <td>1</td>\n",
       "      <td>0</td>\n",
       "      <td>0</td>\n",
       "      <td>0</td>\n",
       "      <td>0</td>\n",
       "      <td>35.0</td>\n",
       "      <td>0.0</td>\n",
       "      <td>0</td>\n",
       "      <td>0</td>\n",
       "      <td>0</td>\n",
       "      <td>...</td>\n",
       "      <td>1</td>\n",
       "      <td>0</td>\n",
       "      <td>1</td>\n",
       "      <td>0</td>\n",
       "      <td>0</td>\n",
       "      <td>1</td>\n",
       "      <td>2</td>\n",
       "      <td>6</td>\n",
       "      <td>5.0</td>\n",
       "      <td>1</td>\n",
       "    </tr>\n",
       "  </tbody>\n",
       "</table>\n",
       "<p>5 rows × 56 columns</p>\n",
       "</div>"
      ],
      "text/plain": [
       "   active_bank_user  active_formal_nbfi_user  active_informal_nbfi_user  \\\n",
       "0                 1                        0                          0   \n",
       "2                 0                        0                          0   \n",
       "4                 0                        0                          0   \n",
       "5                 0                        1                          0   \n",
       "6                 1                        0                          0   \n",
       "\n",
       "   active_mm_user  advanced_phone_use   age  avg_shock_strength_last_year  \\\n",
       "0               0                   0  18.0                           0.0   \n",
       "2               0                   0  20.0                           0.0   \n",
       "4               0                   0  26.0                           0.0   \n",
       "5               0                   0  36.0                           4.0   \n",
       "6               0                   0  35.0                           0.0   \n",
       "\n",
       "   borrowed_for_daily_expenses_last_year  borrowed_for_emergency_last_year  \\\n",
       "0                                      0                                 0   \n",
       "2                                      0                                 0   \n",
       "4                                      0                                 0   \n",
       "5                                      1                                 1   \n",
       "6                                      0                                 0   \n",
       "\n",
       "   borrowed_for_home_or_biz_last_year  ...  phone_ownership  phone_technology  \\\n",
       "0                                   0  ...                1                 0   \n",
       "2                                   0  ...                2                 1   \n",
       "4                                   0  ...                1                 0   \n",
       "5                                   0  ...                1                 0   \n",
       "6                                   0  ...                1                 0   \n",
       "\n",
       "   reg_bank_acct  reg_formal_nbfi_account  reg_mm_acct  \\\n",
       "0              1                        0            0   \n",
       "2              0                        0            0   \n",
       "4              0                        0            0   \n",
       "5              0                        1            0   \n",
       "6              1                        0            0   \n",
       "\n",
       "   relationship_to_hh_head  religion  row_id  share_hh_income_provided  source  \n",
       "0                        2         2       0                       1.0       1  \n",
       "2                        5         3       2                       1.0       1  \n",
       "4                        5         4       4                       2.0       1  \n",
       "5                        5         3       5                       1.0       1  \n",
       "6                        1         2       6                       5.0       1  \n",
       "\n",
       "[5 rows x 56 columns]"
      ]
     },
     "execution_count": 87,
     "metadata": {},
     "output_type": "execute_result"
    }
   ],
   "source": [
    "X.head()"
   ]
  },
  {
   "cell_type": "code",
   "execution_count": null,
   "metadata": {},
   "outputs": [],
   "source": []
  },
  {
   "cell_type": "code",
   "execution_count": 88,
   "metadata": {},
   "outputs": [],
   "source": [
    "# loading packages\n",
    "from sklearn.model_selection import train_test_split, cross_val_score\n",
    "from sklearn.preprocessing import StandardScaler\n",
    "from sklearn.metrics import mean_squared_error, r2_score"
   ]
  },
  {
   "cell_type": "code",
   "execution_count": 89,
   "metadata": {},
   "outputs": [],
   "source": [
    "#splitting data in training and test set\n",
    "X_train, X_test, y_train, y_test = train_test_split(X,y, random_state = 0)"
   ]
  },
  {
   "cell_type": "code",
   "execution_count": 90,
   "metadata": {},
   "outputs": [],
   "source": [
    "#Scale the data\n",
    "sc = StandardScaler()\n",
    "X_train_scaled = pd.DataFrame(sc.fit_transform(X_train), columns = X_train.columns)\n",
    "X_test_scaled = pd.DataFrame(sc.transform(X_test), columns=X_train.columns)"
   ]
  },
  {
   "cell_type": "code",
   "execution_count": 91,
   "metadata": {
    "scrolled": true
   },
   "outputs": [
    {
     "name": "stderr",
     "output_type": "stream",
     "text": [
      "C:\\Users\\Acer\\Anaconda3\\lib\\site-packages\\numpy\\core\\fromnumeric.py:2389: FutureWarning: Method .ptp is deprecated and will be removed in a future version. Use numpy.ptp instead.\n",
      "  return ptp(axis=axis, out=out, **kwargs)\n"
     ]
    },
    {
     "name": "stdout",
     "output_type": "stream",
     "text": [
      "                                 OLS Regression Results                                \n",
      "=======================================================================================\n",
      "Dep. Variable:                      y   R-squared (uncentered):                   0.063\n",
      "Model:                            OLS   Adj. R-squared (uncentered):              0.057\n",
      "Method:                 Least Squares   F-statistic:                              10.99\n",
      "Date:                Sat, 30 May 2020   Prob (F-statistic):                    5.62e-90\n",
      "Time:                        01:19:22   Log-Likelihood:                         -9003.3\n",
      "No. Observations:                9051   AIC:                                  1.812e+04\n",
      "Df Residuals:                    8996   BIC:                                  1.851e+04\n",
      "Df Model:                          55                                                  \n",
      "Covariance Type:            nonrobust                                                  \n",
      "=========================================================================================================\n",
      "                                            coef    std err          t      P>|t|      [0.025      0.975]\n",
      "---------------------------------------------------------------------------------------------------------\n",
      "active_bank_user                         -0.0098      0.013     -0.751      0.453      -0.035       0.016\n",
      "active_formal_nbfi_user                  -0.0038      0.013     -0.297      0.766      -0.029       0.021\n",
      "active_informal_nbfi_user                -0.0043      0.015     -0.293      0.770      -0.033       0.024\n",
      "active_mm_user                           -0.0109      0.017     -0.658      0.510      -0.044       0.022\n",
      "advanced_phone_use                       -0.0009      0.010     -0.095      0.924      -0.020       0.018\n",
      "age                                      -0.0388      0.009     -4.436      0.000      -0.056      -0.022\n",
      "avg_shock_strength_last_year              0.0076      0.009      0.808      0.419      -0.011       0.026\n",
      "borrowed_for_daily_expenses_last_year     0.0075      0.009      0.868      0.386      -0.009       0.025\n",
      "borrowed_for_emergency_last_year          0.0005      0.009      0.052      0.959      -0.017       0.018\n",
      "borrowed_for_home_or_biz_last_year       -0.0020      0.008     -0.235      0.814      -0.018       0.014\n",
      "borrowing_recency                         0.0015      0.014      0.108      0.914      -0.025       0.028\n",
      "can_add                                  -0.0063      0.008     -0.828      0.407      -0.021       0.009\n",
      "can_calc_compounding                      0.0073      0.007      0.998      0.318      -0.007       0.022\n",
      "can_calc_percents                        -0.0009      0.007     -0.119      0.905      -0.015       0.013\n",
      "can_call                                 -0.0039      0.008     -0.474      0.636      -0.020       0.012\n",
      "can_divide                                0.0028      0.008      0.356      0.722      -0.013       0.019\n",
      "can_make_transaction                     -0.0100      0.010     -1.026      0.305      -0.029       0.009\n",
      "can_text                                 -0.0044      0.010     -0.450      0.653      -0.024       0.015\n",
      "can_use_internet                         -0.0146      0.010     -1.484      0.138      -0.034       0.005\n",
      "cash_property_savings                     0.0004      0.007      0.049      0.961      -0.014       0.015\n",
      "country                                  -0.0855      0.009     -9.520      0.000      -0.103      -0.068\n",
      "education_level                          -0.0552      0.010     -5.535      0.000      -0.075      -0.036\n",
      "employed_last_year                        0.0178      0.014      1.290      0.197      -0.009       0.045\n",
      "employment_category_last_year             0.0048      0.012      0.407      0.684      -0.018       0.028\n",
      "employment_type_last_year                -0.0136      0.009     -1.579      0.114      -0.030       0.003\n",
      "female                                    0.0006      0.009      0.062      0.950      -0.017       0.018\n",
      "financially_included                     -0.0055      0.015     -0.357      0.721      -0.036       0.025\n",
      "formal_savings                           -0.0128      0.010     -1.331      0.183      -0.032       0.006\n",
      "has_insurance                             0.0091      0.008      1.202      0.229      -0.006       0.024\n",
      "has_investment                           -0.0170      0.009     -1.929      0.054      -0.034       0.000\n",
      "income_ag_livestock_last_year             0.0046      0.008      0.591      0.555      -0.011       0.020\n",
      "income_friends_family_last_year          -0.0186      0.008     -2.421      0.016      -0.034      -0.004\n",
      "income_government_last_year               0.0089      0.007      1.238      0.216      -0.005       0.023\n",
      "income_own_business_last_year             0.0019      0.009      0.213      0.832      -0.016       0.020\n",
      "income_private_sector_last_year          -0.0105      0.007     -1.408      0.159      -0.025       0.004\n",
      "income_public_sector_last_year           -0.0040      0.007     -0.551      0.582      -0.018       0.010\n",
      "informal_savings                         -0.0009      0.009     -0.108      0.914      -0.018       0.016\n",
      "is_urban                                 -0.0410      0.008     -5.388      0.000      -0.056      -0.026\n",
      "literacy                                  0.0031      0.009      0.337      0.736      -0.015       0.021\n",
      "married                                   0.0203      0.008      2.604      0.009       0.005       0.036\n",
      "nonreg_active_mm_user                     0.0121      0.009      1.337      0.181      -0.006       0.030\n",
      "num_financial_activities_last_year       -0.0178      0.014     -1.287      0.198      -0.045       0.009\n",
      "num_formal_institutions_last_year         0.0014      0.017      0.087      0.931      -0.031       0.034\n",
      "num_informal_institutions_last_year    7.035e-05      0.014      0.005      0.996      -0.028       0.028\n",
      "num_shocks_last_year                      0.0265      0.010      2.636      0.008       0.007       0.046\n",
      "num_times_borrowed_last_year              0.0036      0.013      0.272      0.786      -0.022       0.029\n",
      "phone_ownership                          -0.0244      0.011     -2.123      0.034      -0.047      -0.002\n",
      "phone_technology                         -0.0134      0.013     -1.051      0.293      -0.038       0.012\n",
      "reg_bank_acct                            -0.0243      0.015     -1.588      0.112      -0.054       0.006\n",
      "reg_formal_nbfi_account                   0.0082      0.013      0.649      0.516      -0.017       0.033\n",
      "reg_mm_acct                               0.0372      0.020      1.836      0.066      -0.003       0.077\n",
      "relationship_to_hh_head                  -0.0068      0.010     -0.711      0.477      -0.026       0.012\n",
      "religion                                  0.0157      0.009      1.726      0.084      -0.002       0.034\n",
      "row_id                                    0.0031      0.007      0.448      0.654      -0.010       0.017\n",
      "share_hh_income_provided                  0.0026      0.009      0.289      0.773      -0.015       0.020\n",
      "source                                         0          0        nan        nan           0           0\n",
      "==============================================================================\n",
      "Omnibus:                      174.959   Durbin-Watson:                   0.261\n",
      "Prob(Omnibus):                  0.000   Jarque-Bera (JB):              180.151\n",
      "Skew:                          -0.332   Prob(JB):                     7.60e-40\n",
      "Kurtosis:                       2.807   Cond. No.                     1.64e+16\n",
      "==============================================================================\n",
      "\n",
      "Warnings:\n",
      "[1] Standard Errors assume that the covariance matrix of the errors is correctly specified.\n",
      "[2] The smallest eigenvalue is 2.79e-28. This might indicate that there are\n",
      "strong multicollinearity problems or that the design matrix is singular.\n"
     ]
    },
    {
     "name": "stderr",
     "output_type": "stream",
     "text": [
      "C:\\Users\\Acer\\Anaconda3\\lib\\site-packages\\statsmodels\\base\\model.py:1294: RuntimeWarning: invalid value encountered in true_divide\n",
      "  return self.params / self.bse\n",
      "C:\\Users\\Acer\\Anaconda3\\lib\\site-packages\\scipy\\stats\\_distn_infrastructure.py:901: RuntimeWarning: invalid value encountered in greater\n",
      "  return (a < x) & (x < b)\n",
      "C:\\Users\\Acer\\Anaconda3\\lib\\site-packages\\scipy\\stats\\_distn_infrastructure.py:901: RuntimeWarning: invalid value encountered in less\n",
      "  return (a < x) & (x < b)\n",
      "C:\\Users\\Acer\\Anaconda3\\lib\\site-packages\\scipy\\stats\\_distn_infrastructure.py:1892: RuntimeWarning: invalid value encountered in less_equal\n",
      "  cond2 = cond0 & (x <= _a)\n"
     ]
    }
   ],
   "source": [
    "#Ordinary Least Square regression\n",
    "import statsmodels.api as sm\n",
    "y_train = np.array(y_train)\n",
    "X2_train = sm.add_constant(X_train_scaled)\n",
    "X2_test = sm.add_constant(X_test_scaled)\n",
    "ols = sm.OLS(y_train,X_train_scaled)\n",
    "lr = ols.fit()\n",
    "print(lr.summary())"
   ]
  },
  {
   "cell_type": "code",
   "execution_count": 92,
   "metadata": {},
   "outputs": [],
   "source": [
    "X2_train = X2_train.drop(['active_bank_user', 'active_formal_nbfi_user', 'active_informal_nbfi_user', 'active_mm_user', \n",
    "                          'advanced_phone_use', 'avg_shock_strength_last_year', 'borrowed_for_daily_expenses_last_year',\n",
    "                          'borrowed_for_emergency_last_year', 'borrowed_for_home_or_biz_last_year', 'borrowing_recency', \n",
    "                          'can_add', 'can_calc_compounding', 'can_calc_percents', 'can_call', 'can_divide', 'can_make_transaction', \n",
    "                          'can_text', 'can_use_internet', 'cash_property_savings', 'employed_last_year', 'employment_category_last_year',\n",
    "                          'employment_type_last_year', 'female', 'financially_included', 'formal_savings', 'has_insurance', \n",
    "                          'income_ag_livestock_last_year', 'income_government_last_year', 'income_own_business_last_year',\n",
    "                          'income_private_sector_last_year', 'income_public_sector_last_year', 'informal_savings', 'literacy',\n",
    "                          'nonreg_active_mm_user', 'num_financial_activities_last_year', 'num_formal_institutions_last_year', \n",
    "                          'num_informal_institutions_last_year', 'num_times_borrowed_last_year', 'phone_technology', \n",
    "                          'reg_bank_acct', 'reg_formal_nbfi_account', 'relationship_to_hh_head', 'religion', 'row_id', \n",
    "                          'share_hh_income_provided', 'source'], axis=1)"
   ]
  },
  {
   "cell_type": "code",
   "execution_count": 93,
   "metadata": {},
   "outputs": [],
   "source": [
    "X2_test = X2_test.drop(['active_bank_user', 'active_formal_nbfi_user', 'active_informal_nbfi_user', 'active_mm_user', \n",
    "                          'advanced_phone_use', 'avg_shock_strength_last_year', 'borrowed_for_daily_expenses_last_year',\n",
    "                          'borrowed_for_emergency_last_year', 'borrowed_for_home_or_biz_last_year', 'borrowing_recency', \n",
    "                          'can_add', 'can_calc_compounding', 'can_calc_percents', 'can_call', 'can_divide', 'can_make_transaction', \n",
    "                          'can_text', 'can_use_internet', 'cash_property_savings', 'employed_last_year', 'employment_category_last_year',\n",
    "                          'employment_type_last_year', 'female', 'financially_included', 'formal_savings', 'has_insurance', \n",
    "                          'income_ag_livestock_last_year', 'income_government_last_year', 'income_own_business_last_year',\n",
    "                          'income_private_sector_last_year', 'income_public_sector_last_year', 'informal_savings', 'literacy',\n",
    "                          'nonreg_active_mm_user', 'num_financial_activities_last_year', 'num_formal_institutions_last_year', \n",
    "                          'num_informal_institutions_last_year', 'num_times_borrowed_last_year', 'phone_technology', \n",
    "                          'reg_bank_acct', 'reg_formal_nbfi_account', 'relationship_to_hh_head', 'religion', 'row_id', \n",
    "                          'share_hh_income_provided', 'source'], axis=1)"
   ]
  },
  {
   "cell_type": "code",
   "execution_count": 94,
   "metadata": {
    "scrolled": true
   },
   "outputs": [
    {
     "name": "stdout",
     "output_type": "stream",
     "text": [
      "                            OLS Regression Results                            \n",
      "==============================================================================\n",
      "Dep. Variable:                      y   R-squared:                       0.290\n",
      "Model:                            OLS   Adj. R-squared:                  0.289\n",
      "Method:                 Least Squares   F-statistic:                     369.3\n",
      "Date:                Sat, 30 May 2020   Prob (F-statistic):               0.00\n",
      "Time:                        01:19:22   Log-Likelihood:                -115.38\n",
      "No. Observations:                9051   AIC:                             252.8\n",
      "Df Residuals:                    9040   BIC:                             331.0\n",
      "Df Model:                          10                                         \n",
      "Covariance Type:            nonrobust                                         \n",
      "===================================================================================================\n",
      "                                      coef    std err          t      P>|t|      [0.025      0.975]\n",
      "---------------------------------------------------------------------------------------------------\n",
      "const                               0.6101      0.003    236.700      0.000       0.605       0.615\n",
      "age                                -0.0355      0.003    -12.691      0.000      -0.041      -0.030\n",
      "country                            -0.0762      0.003    -27.597      0.000      -0.082      -0.071\n",
      "education_level                    -0.0792      0.003    -26.741      0.000      -0.085      -0.073\n",
      "has_investment                     -0.0186      0.003     -6.809      0.000      -0.024      -0.013\n",
      "income_friends_family_last_year    -0.0207      0.003     -7.768      0.000      -0.026      -0.015\n",
      "is_urban                           -0.0516      0.003    -18.943      0.000      -0.057      -0.046\n",
      "married                             0.0174      0.003      6.438      0.000       0.012       0.023\n",
      "num_shocks_last_year                0.0436      0.003     15.792      0.000       0.038       0.049\n",
      "phone_ownership                    -0.0421      0.003    -14.332      0.000      -0.048      -0.036\n",
      "reg_mm_acct                         0.0098      0.003      3.365      0.001       0.004       0.015\n",
      "==============================================================================\n",
      "Omnibus:                      271.821   Durbin-Watson:                   2.005\n",
      "Prob(Omnibus):                  0.000   Jarque-Bera (JB):              287.812\n",
      "Skew:                          -0.423   Prob(JB):                     3.18e-63\n",
      "Kurtosis:                       2.779   Cond. No.                         1.92\n",
      "==============================================================================\n",
      "\n",
      "Warnings:\n",
      "[1] Standard Errors assume that the covariance matrix of the errors is correctly specified.\n"
     ]
    }
   ],
   "source": [
    "#Ordinary Least Square regression\n",
    "y_train = np.array(y_train)\n",
    "X2_train = sm.add_constant(X2_train)\n",
    "X2_test = sm.add_constant(X2_test)\n",
    "ols = sm.OLS(y_train,X2_train)\n",
    "lr = ols.fit()\n",
    "print(lr.summary())"
   ]
  },
  {
   "cell_type": "code",
   "execution_count": 95,
   "metadata": {},
   "outputs": [
    {
     "data": {
      "image/png": "[encoded data removed]",
      "text/plain": [
       "<Figure size 864x720 with 2 Axes>"
      ]
     },
     "metadata": {
      "needs_background": "light"
     },
     "output_type": "display_data"
    }
   ],
   "source": [
    "features = ['poverty_probability','age','country','education_level','has_investment','income_friends_family_last_year',\n",
    "            'is_urban','married','num_shocks_last_year','phone_ownership','reg_mm_acct']\n",
    "\n",
    "mask = np.zeros_like(pov_1[features].corr(), dtype=np.bool) \n",
    "mask[np.triu_indices_from(mask)] = True \n",
    "\n",
    "f, ax = plt.subplots(figsize=(12, 10))\n",
    "ax.set_xticklabels(features)\n",
    "\n",
    "plt.title('Correlation Matrix \\n',fontsize=15)\n",
    "\n",
    "sns.heatmap(pov_1[features].corr(),linewidths=0.25,vmax=0.9,square=True,cmap=\"BuGn_r\", #\"BuGn_r\" to reverse \n",
    "            linecolor='w',annot=True,annot_kws={\"size\":10},mask=mask,cbar_kws={\"shrink\": .9})\n",
    "\n",
    "plt.show()"
   ]
  },
  {
   "cell_type": "code",
   "execution_count": 96,
   "metadata": {
    "scrolled": false
   },
   "outputs": [
    {
     "name": "stdout",
     "output_type": "stream",
     "text": [
      "<class 'pandas.core.frame.DataFrame'>\n",
      "RangeIndex: 9051 entries, 0 to 9050\n",
      "Data columns (total 11 columns):\n",
      "const                              9051 non-null float64\n",
      "age                                9051 non-null float64\n",
      "country                            9051 non-null float64\n",
      "education_level                    9051 non-null float64\n",
      "has_investment                     9051 non-null float64\n",
      "income_friends_family_last_year    9051 non-null float64\n",
      "is_urban                           9051 non-null float64\n",
      "married                            9051 non-null float64\n",
      "num_shocks_last_year               9051 non-null float64\n",
      "phone_ownership                    9051 non-null float64\n",
      "reg_mm_acct                        9051 non-null float64\n",
      "dtypes: float64(11)\n",
      "memory usage: 777.9 KB\n"
     ]
    }
   ],
   "source": [
    "X2_train.info()"
   ]
  },
  {
   "cell_type": "code",
   "execution_count": 97,
   "metadata": {},
   "outputs": [],
   "source": [
    "#remove variables which have no correlation with the target\n",
    "#while lr.pvalues.max()>0.05:\n",
    " #   X2_train=np.delete(X2_train,lr.pvalues.argmax(),axis=1)\n",
    "  #  X2_test=np.delete(X2_test,lr.pvalues.argmax(),axis=1)\n",
    "   # ols = sm.OLS(y_train,X2_train)\n",
    "    #lr = ols.fit()\n",
    "#print(lr.summary())"
   ]
  },
  {
   "cell_type": "markdown",
   "metadata": {},
   "source": [
    "### Linear Regression"
   ]
  },
  {
   "cell_type": "code",
   "execution_count": 98,
   "metadata": {},
   "outputs": [
    {
     "data": {
      "text/plain": [
       "LinearRegression(copy_X=True, fit_intercept=True, n_jobs=None, normalize=False)"
      ]
     },
     "execution_count": 98,
     "metadata": {},
     "output_type": "execute_result"
    }
   ],
   "source": [
    "from sklearn.linear_model import LinearRegression\n",
    "\n",
    "lr = LinearRegression()\n",
    "\n",
    "#train model\n",
    "lr.fit(X2_train, y_train)"
   ]
  },
  {
   "cell_type": "code",
   "execution_count": 99,
   "metadata": {
    "scrolled": false
   },
   "outputs": [
    {
     "name": "stdout",
     "output_type": "stream",
     "text": [
      "Coefficients: \n",
      " [ 0.         -0.03545614 -0.07624091 -0.07915945 -0.0185895  -0.02069515\n",
      " -0.05164446  0.01738353  0.04364004 -0.04210274  0.00978413]\n",
      "Mean squared error: 0.06\n",
      "Coefficient of determination: 0.27\n"
     ]
    }
   ],
   "source": [
    "y_pred = lr.predict(X2_test)\n",
    "# The coefficients\n",
    "print('Coefficients: \\n', lr.coef_)\n",
    "# The mean squared error\n",
    "print('Mean squared error: %.2f'\n",
    "      % mean_squared_error(y_test, y_pred))\n",
    "# The coefficient of determination: 1 is perfect prediction\n",
    "print('Coefficient of determination: %.2f'\n",
    "      % r2_score(y_test, y_pred))"
   ]
  },
  {
   "cell_type": "code",
   "execution_count": 100,
   "metadata": {},
   "outputs": [],
   "source": [
    "y_pred_test = lr.predict(X2_test)\n",
    "y_pred_train = lr.predict(X2_train)"
   ]
  },
  {
   "cell_type": "code",
   "execution_count": 101,
   "metadata": {},
   "outputs": [
    {
     "name": "stdout",
     "output_type": "stream",
     "text": [
      "R2_score: 0.2719293933827528\n",
      "Train set RMSE: 0.24507510635268973\n",
      "Test set RMSE: 0.24952126471498995\n"
     ]
    }
   ],
   "source": [
    "train_lr_rmse = (np.sqrt(mean_squared_error(y_train, y_pred_train)))\n",
    "test_lr_rmse = (np.sqrt(mean_squared_error(y_test, y_pred_test)))\n",
    "r2_lr_score = r2_score(y_test, y_pred)\n",
    "\n",
    "print('R2_score:', r2_lr_score)\n",
    "print('Train set RMSE:',train_lr_rmse)\n",
    "print('Test set RMSE:', test_lr_rmse)"
   ]
  },
  {
   "cell_type": "markdown",
   "metadata": {},
   "source": [
    "#### Linear regression shows an R2 of 0.28 and RMSE of 0.24"
   ]
  },
  {
   "cell_type": "markdown",
   "metadata": {},
   "source": [
    "### KNN analysis"
   ]
  },
  {
   "cell_type": "code",
   "execution_count": 102,
   "metadata": {},
   "outputs": [
    {
     "name": "stdout",
     "output_type": "stream",
     "text": [
      "Best number of neighbors found {'n_neighbors': 9, 'p': 1}:\n"
     ]
    }
   ],
   "source": [
    "from sklearn.neighbors import KNeighborsRegressor\n",
    "from sklearn.model_selection import GridSearchCV\n",
    "\n",
    "tuned_parameters = [{'n_neighbors': range(1,10), 'p': range(1,10)}]\n",
    "knn = GridSearchCV(KNeighborsRegressor(), tuned_parameters, cv=4)\n",
    "knn.fit(X_train, y_train)\n",
    "print(\"Best number of neighbors found {}:\".format(knn.best_params_))\n"
   ]
  },
  {
   "cell_type": "code",
   "execution_count": 103,
   "metadata": {},
   "outputs": [
    {
     "name": "stdout",
     "output_type": "stream",
     "text": [
      "0.24947113211513489 0.2722219248086485\n"
     ]
    }
   ],
   "source": [
    "#will use K = 9 and p = 1\n",
    "knn = KNeighborsRegressor(n_neighbors=9, p = 1)\n",
    "knn.fit(X_train_scaled, y_train)\n",
    "y_predknn = knn.predict(X_test_scaled)\n",
    "\n",
    "test_knn_rmse = (np.sqrt(mean_squared_error(y_test, y_predknn)))\n",
    "test_knn_r2 = r2_score(y_test, y_predknn)\n",
    "#adjr2_knn = 1 - (1-test_knn_r2)*((len(X2_test) - 1)/(len(X2_test) - len(X2_test[0])))\n",
    "print(test_knn_rmse, test_knn_r2)"
   ]
  },
  {
   "cell_type": "markdown",
   "metadata": {},
   "source": [
    "#### KNN analysis shows an R2 of 0.30 and RMSE of 0.24 which is a little bit better than Linear regression"
   ]
  },
  {
   "cell_type": "code",
   "execution_count": null,
   "metadata": {},
   "outputs": [],
   "source": []
  },
  {
   "cell_type": "markdown",
   "metadata": {},
   "source": [
    "### Random Forest analysis"
   ]
  },
  {
   "cell_type": "code",
   "execution_count": 105,
   "metadata": {},
   "outputs": [
    {
     "ename": "KeyboardInterrupt",
     "evalue": "",
     "output_type": "error",
     "traceback": [
      "\u001b[1;31m---------------------------------------------------------------------------\u001b[0m",
      "\u001b[1;31mKeyboardInterrupt\u001b[0m                         Traceback (most recent call last)",
      "\u001b[1;32m<ipython-input-105-bd6c7a21a5da>\u001b[0m in \u001b[0;36m<module>\u001b[1;34m\u001b[0m\n\u001b[0;32m      5\u001b[0m                      'random_state': range(0,60,10)}]\n\u001b[0;32m      6\u001b[0m \u001b[0mrf\u001b[0m \u001b[1;33m=\u001b[0m \u001b[0mGridSearchCV\u001b[0m\u001b[1;33m(\u001b[0m\u001b[0mRandomForestRegressor\u001b[0m\u001b[1;33m(\u001b[0m\u001b[1;33m)\u001b[0m\u001b[1;33m,\u001b[0m \u001b[0mtuned_parameters\u001b[0m\u001b[1;33m,\u001b[0m \u001b[0mcv\u001b[0m\u001b[1;33m=\u001b[0m\u001b[1;36m4\u001b[0m\u001b[1;33m)\u001b[0m\u001b[1;33m\u001b[0m\u001b[1;33m\u001b[0m\u001b[0m\n\u001b[1;32m----> 7\u001b[1;33m \u001b[0mrf\u001b[0m\u001b[1;33m.\u001b[0m\u001b[0mfit\u001b[0m\u001b[1;33m(\u001b[0m\u001b[0mX2_train\u001b[0m\u001b[1;33m,\u001b[0m \u001b[0my_train\u001b[0m\u001b[1;33m)\u001b[0m\u001b[1;33m\u001b[0m\u001b[1;33m\u001b[0m\u001b[0m\n\u001b[0m\u001b[0;32m      8\u001b[0m \u001b[0mprint\u001b[0m\u001b[1;33m(\u001b[0m\u001b[1;34m\"Best estimators found {}:\"\u001b[0m\u001b[1;33m.\u001b[0m\u001b[0mformat\u001b[0m\u001b[1;33m(\u001b[0m\u001b[0mrf\u001b[0m\u001b[1;33m.\u001b[0m\u001b[0mbest_params_\u001b[0m\u001b[1;33m)\u001b[0m\u001b[1;33m)\u001b[0m\u001b[1;33m\u001b[0m\u001b[1;33m\u001b[0m\u001b[0m\n",
      "\u001b[1;32m~\\Anaconda3\\lib\\site-packages\\sklearn\\model_selection\\_search.py\u001b[0m in \u001b[0;36mfit\u001b[1;34m(self, X, y, groups, **fit_params)\u001b[0m\n\u001b[0;32m    686\u001b[0m                 \u001b[1;32mreturn\u001b[0m \u001b[0mresults\u001b[0m\u001b[1;33m\u001b[0m\u001b[1;33m\u001b[0m\u001b[0m\n\u001b[0;32m    687\u001b[0m \u001b[1;33m\u001b[0m\u001b[0m\n\u001b[1;32m--> 688\u001b[1;33m             \u001b[0mself\u001b[0m\u001b[1;33m.\u001b[0m\u001b[0m_run_search\u001b[0m\u001b[1;33m(\u001b[0m\u001b[0mevaluate_candidates\u001b[0m\u001b[1;33m)\u001b[0m\u001b[1;33m\u001b[0m\u001b[1;33m\u001b[0m\u001b[0m\n\u001b[0m\u001b[0;32m    689\u001b[0m \u001b[1;33m\u001b[0m\u001b[0m\n\u001b[0;32m    690\u001b[0m         \u001b[1;31m# For multi-metric evaluation, store the best_index_, best_params_ and\u001b[0m\u001b[1;33m\u001b[0m\u001b[1;33m\u001b[0m\u001b[1;33m\u001b[0m\u001b[0m\n",
      "\u001b[1;32m~\\Anaconda3\\lib\\site-packages\\sklearn\\model_selection\\_search.py\u001b[0m in \u001b[0;36m_run_search\u001b[1;34m(self, evaluate_candidates)\u001b[0m\n\u001b[0;32m   1147\u001b[0m     \u001b[1;32mdef\u001b[0m \u001b[0m_run_search\u001b[0m\u001b[1;33m(\u001b[0m\u001b[0mself\u001b[0m\u001b[1;33m,\u001b[0m \u001b[0mevaluate_candidates\u001b[0m\u001b[1;33m)\u001b[0m\u001b[1;33m:\u001b[0m\u001b[1;33m\u001b[0m\u001b[1;33m\u001b[0m\u001b[0m\n\u001b[0;32m   1148\u001b[0m         \u001b[1;34m\"\"\"Search all candidates in param_grid\"\"\"\u001b[0m\u001b[1;33m\u001b[0m\u001b[1;33m\u001b[0m\u001b[0m\n\u001b[1;32m-> 1149\u001b[1;33m         \u001b[0mevaluate_candidates\u001b[0m\u001b[1;33m(\u001b[0m\u001b[0mParameterGrid\u001b[0m\u001b[1;33m(\u001b[0m\u001b[0mself\u001b[0m\u001b[1;33m.\u001b[0m\u001b[0mparam_grid\u001b[0m\u001b[1;33m)\u001b[0m\u001b[1;33m)\u001b[0m\u001b[1;33m\u001b[0m\u001b[1;33m\u001b[0m\u001b[0m\n\u001b[0m\u001b[0;32m   1150\u001b[0m \u001b[1;33m\u001b[0m\u001b[0m\n\u001b[0;32m   1151\u001b[0m \u001b[1;33m\u001b[0m\u001b[0m\n",
      "\u001b[1;32m~\\Anaconda3\\lib\\site-packages\\sklearn\\model_selection\\_search.py\u001b[0m in \u001b[0;36mevaluate_candidates\u001b[1;34m(candidate_params)\u001b[0m\n\u001b[0;32m    665\u001b[0m                                \u001b[1;32mfor\u001b[0m \u001b[0mparameters\u001b[0m\u001b[1;33m,\u001b[0m \u001b[1;33m(\u001b[0m\u001b[0mtrain\u001b[0m\u001b[1;33m,\u001b[0m \u001b[0mtest\u001b[0m\u001b[1;33m)\u001b[0m\u001b[1;33m\u001b[0m\u001b[1;33m\u001b[0m\u001b[0m\n\u001b[0;32m    666\u001b[0m                                in product(candidate_params,\n\u001b[1;32m--> 667\u001b[1;33m                                           cv.split(X, y, groups)))\n\u001b[0m\u001b[0;32m    668\u001b[0m \u001b[1;33m\u001b[0m\u001b[0m\n\u001b[0;32m    669\u001b[0m                 \u001b[1;32mif\u001b[0m \u001b[0mlen\u001b[0m\u001b[1;33m(\u001b[0m\u001b[0mout\u001b[0m\u001b[1;33m)\u001b[0m \u001b[1;33m<\u001b[0m \u001b[1;36m1\u001b[0m\u001b[1;33m:\u001b[0m\u001b[1;33m\u001b[0m\u001b[1;33m\u001b[0m\u001b[0m\n",
      "\u001b[1;32m~\\Anaconda3\\lib\\site-packages\\joblib\\parallel.py\u001b[0m in \u001b[0;36m__call__\u001b[1;34m(self, iterable)\u001b[0m\n\u001b[0;32m    922\u001b[0m                 \u001b[0mself\u001b[0m\u001b[1;33m.\u001b[0m\u001b[0m_iterating\u001b[0m \u001b[1;33m=\u001b[0m \u001b[0mself\u001b[0m\u001b[1;33m.\u001b[0m\u001b[0m_original_iterator\u001b[0m \u001b[1;32mis\u001b[0m \u001b[1;32mnot\u001b[0m \u001b[1;32mNone\u001b[0m\u001b[1;33m\u001b[0m\u001b[1;33m\u001b[0m\u001b[0m\n\u001b[0;32m    923\u001b[0m \u001b[1;33m\u001b[0m\u001b[0m\n\u001b[1;32m--> 924\u001b[1;33m             \u001b[1;32mwhile\u001b[0m \u001b[0mself\u001b[0m\u001b[1;33m.\u001b[0m\u001b[0mdispatch_one_batch\u001b[0m\u001b[1;33m(\u001b[0m\u001b[0miterator\u001b[0m\u001b[1;33m)\u001b[0m\u001b[1;33m:\u001b[0m\u001b[1;33m\u001b[0m\u001b[1;33m\u001b[0m\u001b[0m\n\u001b[0m\u001b[0;32m    925\u001b[0m                 \u001b[1;32mpass\u001b[0m\u001b[1;33m\u001b[0m\u001b[1;33m\u001b[0m\u001b[0m\n\u001b[0;32m    926\u001b[0m \u001b[1;33m\u001b[0m\u001b[0m\n",
      "\u001b[1;32m~\\Anaconda3\\lib\\site-packages\\joblib\\parallel.py\u001b[0m in \u001b[0;36mdispatch_one_batch\u001b[1;34m(self, iterator)\u001b[0m\n\u001b[0;32m    757\u001b[0m                 \u001b[1;32mreturn\u001b[0m \u001b[1;32mFalse\u001b[0m\u001b[1;33m\u001b[0m\u001b[1;33m\u001b[0m\u001b[0m\n\u001b[0;32m    758\u001b[0m             \u001b[1;32melse\u001b[0m\u001b[1;33m:\u001b[0m\u001b[1;33m\u001b[0m\u001b[1;33m\u001b[0m\u001b[0m\n\u001b[1;32m--> 759\u001b[1;33m                 \u001b[0mself\u001b[0m\u001b[1;33m.\u001b[0m\u001b[0m_dispatch\u001b[0m\u001b[1;33m(\u001b[0m\u001b[0mtasks\u001b[0m\u001b[1;33m)\u001b[0m\u001b[1;33m\u001b[0m\u001b[1;33m\u001b[0m\u001b[0m\n\u001b[0m\u001b[0;32m    760\u001b[0m                 \u001b[1;32mreturn\u001b[0m \u001b[1;32mTrue\u001b[0m\u001b[1;33m\u001b[0m\u001b[1;33m\u001b[0m\u001b[0m\n\u001b[0;32m    761\u001b[0m \u001b[1;33m\u001b[0m\u001b[0m\n",
      "\u001b[1;32m~\\Anaconda3\\lib\\site-packages\\joblib\\parallel.py\u001b[0m in \u001b[0;36m_dispatch\u001b[1;34m(self, batch)\u001b[0m\n\u001b[0;32m    714\u001b[0m         \u001b[1;32mwith\u001b[0m \u001b[0mself\u001b[0m\u001b[1;33m.\u001b[0m\u001b[0m_lock\u001b[0m\u001b[1;33m:\u001b[0m\u001b[1;33m\u001b[0m\u001b[1;33m\u001b[0m\u001b[0m\n\u001b[0;32m    715\u001b[0m             \u001b[0mjob_idx\u001b[0m \u001b[1;33m=\u001b[0m \u001b[0mlen\u001b[0m\u001b[1;33m(\u001b[0m\u001b[0mself\u001b[0m\u001b[1;33m.\u001b[0m\u001b[0m_jobs\u001b[0m\u001b[1;33m)\u001b[0m\u001b[1;33m\u001b[0m\u001b[1;33m\u001b[0m\u001b[0m\n\u001b[1;32m--> 716\u001b[1;33m             \u001b[0mjob\u001b[0m \u001b[1;33m=\u001b[0m \u001b[0mself\u001b[0m\u001b[1;33m.\u001b[0m\u001b[0m_backend\u001b[0m\u001b[1;33m.\u001b[0m\u001b[0mapply_async\u001b[0m\u001b[1;33m(\u001b[0m\u001b[0mbatch\u001b[0m\u001b[1;33m,\u001b[0m \u001b[0mcallback\u001b[0m\u001b[1;33m=\u001b[0m\u001b[0mcb\u001b[0m\u001b[1;33m)\u001b[0m\u001b[1;33m\u001b[0m\u001b[1;33m\u001b[0m\u001b[0m\n\u001b[0m\u001b[0;32m    717\u001b[0m             \u001b[1;31m# A job can complete so quickly than its callback is\u001b[0m\u001b[1;33m\u001b[0m\u001b[1;33m\u001b[0m\u001b[1;33m\u001b[0m\u001b[0m\n\u001b[0;32m    718\u001b[0m             \u001b[1;31m# called before we get here, causing self._jobs to\u001b[0m\u001b[1;33m\u001b[0m\u001b[1;33m\u001b[0m\u001b[1;33m\u001b[0m\u001b[0m\n",
      "\u001b[1;32m~\\Anaconda3\\lib\\site-packages\\joblib\\_parallel_backends.py\u001b[0m in \u001b[0;36mapply_async\u001b[1;34m(self, func, callback)\u001b[0m\n\u001b[0;32m    180\u001b[0m     \u001b[1;32mdef\u001b[0m \u001b[0mapply_async\u001b[0m\u001b[1;33m(\u001b[0m\u001b[0mself\u001b[0m\u001b[1;33m,\u001b[0m \u001b[0mfunc\u001b[0m\u001b[1;33m,\u001b[0m \u001b[0mcallback\u001b[0m\u001b[1;33m=\u001b[0m\u001b[1;32mNone\u001b[0m\u001b[1;33m)\u001b[0m\u001b[1;33m:\u001b[0m\u001b[1;33m\u001b[0m\u001b[1;33m\u001b[0m\u001b[0m\n\u001b[0;32m    181\u001b[0m         \u001b[1;34m\"\"\"Schedule a func to be run\"\"\"\u001b[0m\u001b[1;33m\u001b[0m\u001b[1;33m\u001b[0m\u001b[0m\n\u001b[1;32m--> 182\u001b[1;33m         \u001b[0mresult\u001b[0m \u001b[1;33m=\u001b[0m \u001b[0mImmediateResult\u001b[0m\u001b[1;33m(\u001b[0m\u001b[0mfunc\u001b[0m\u001b[1;33m)\u001b[0m\u001b[1;33m\u001b[0m\u001b[1;33m\u001b[0m\u001b[0m\n\u001b[0m\u001b[0;32m    183\u001b[0m         \u001b[1;32mif\u001b[0m \u001b[0mcallback\u001b[0m\u001b[1;33m:\u001b[0m\u001b[1;33m\u001b[0m\u001b[1;33m\u001b[0m\u001b[0m\n\u001b[0;32m    184\u001b[0m             \u001b[0mcallback\u001b[0m\u001b[1;33m(\u001b[0m\u001b[0mresult\u001b[0m\u001b[1;33m)\u001b[0m\u001b[1;33m\u001b[0m\u001b[1;33m\u001b[0m\u001b[0m\n",
      "\u001b[1;32m~\\Anaconda3\\lib\\site-packages\\joblib\\_parallel_backends.py\u001b[0m in \u001b[0;36m__init__\u001b[1;34m(self, batch)\u001b[0m\n\u001b[0;32m    547\u001b[0m         \u001b[1;31m# Don't delay the application, to avoid keeping the input\u001b[0m\u001b[1;33m\u001b[0m\u001b[1;33m\u001b[0m\u001b[1;33m\u001b[0m\u001b[0m\n\u001b[0;32m    548\u001b[0m         \u001b[1;31m# arguments in memory\u001b[0m\u001b[1;33m\u001b[0m\u001b[1;33m\u001b[0m\u001b[1;33m\u001b[0m\u001b[0m\n\u001b[1;32m--> 549\u001b[1;33m         \u001b[0mself\u001b[0m\u001b[1;33m.\u001b[0m\u001b[0mresults\u001b[0m \u001b[1;33m=\u001b[0m \u001b[0mbatch\u001b[0m\u001b[1;33m(\u001b[0m\u001b[1;33m)\u001b[0m\u001b[1;33m\u001b[0m\u001b[1;33m\u001b[0m\u001b[0m\n\u001b[0m\u001b[0;32m    550\u001b[0m \u001b[1;33m\u001b[0m\u001b[0m\n\u001b[0;32m    551\u001b[0m     \u001b[1;32mdef\u001b[0m \u001b[0mget\u001b[0m\u001b[1;33m(\u001b[0m\u001b[0mself\u001b[0m\u001b[1;33m)\u001b[0m\u001b[1;33m:\u001b[0m\u001b[1;33m\u001b[0m\u001b[1;33m\u001b[0m\u001b[0m\n",
      "\u001b[1;32m~\\Anaconda3\\lib\\site-packages\\joblib\\parallel.py\u001b[0m in \u001b[0;36m__call__\u001b[1;34m(self)\u001b[0m\n\u001b[0;32m    223\u001b[0m         \u001b[1;32mwith\u001b[0m \u001b[0mparallel_backend\u001b[0m\u001b[1;33m(\u001b[0m\u001b[0mself\u001b[0m\u001b[1;33m.\u001b[0m\u001b[0m_backend\u001b[0m\u001b[1;33m,\u001b[0m \u001b[0mn_jobs\u001b[0m\u001b[1;33m=\u001b[0m\u001b[0mself\u001b[0m\u001b[1;33m.\u001b[0m\u001b[0m_n_jobs\u001b[0m\u001b[1;33m)\u001b[0m\u001b[1;33m:\u001b[0m\u001b[1;33m\u001b[0m\u001b[1;33m\u001b[0m\u001b[0m\n\u001b[0;32m    224\u001b[0m             return [func(*args, **kwargs)\n\u001b[1;32m--> 225\u001b[1;33m                     for func, args, kwargs in self.items]\n\u001b[0m\u001b[0;32m    226\u001b[0m \u001b[1;33m\u001b[0m\u001b[0m\n\u001b[0;32m    227\u001b[0m     \u001b[1;32mdef\u001b[0m \u001b[0m__len__\u001b[0m\u001b[1;33m(\u001b[0m\u001b[0mself\u001b[0m\u001b[1;33m)\u001b[0m\u001b[1;33m:\u001b[0m\u001b[1;33m\u001b[0m\u001b[1;33m\u001b[0m\u001b[0m\n",
      "\u001b[1;32m~\\Anaconda3\\lib\\site-packages\\joblib\\parallel.py\u001b[0m in \u001b[0;36m<listcomp>\u001b[1;34m(.0)\u001b[0m\n\u001b[0;32m    223\u001b[0m         \u001b[1;32mwith\u001b[0m \u001b[0mparallel_backend\u001b[0m\u001b[1;33m(\u001b[0m\u001b[0mself\u001b[0m\u001b[1;33m.\u001b[0m\u001b[0m_backend\u001b[0m\u001b[1;33m,\u001b[0m \u001b[0mn_jobs\u001b[0m\u001b[1;33m=\u001b[0m\u001b[0mself\u001b[0m\u001b[1;33m.\u001b[0m\u001b[0m_n_jobs\u001b[0m\u001b[1;33m)\u001b[0m\u001b[1;33m:\u001b[0m\u001b[1;33m\u001b[0m\u001b[1;33m\u001b[0m\u001b[0m\n\u001b[0;32m    224\u001b[0m             return [func(*args, **kwargs)\n\u001b[1;32m--> 225\u001b[1;33m                     for func, args, kwargs in self.items]\n\u001b[0m\u001b[0;32m    226\u001b[0m \u001b[1;33m\u001b[0m\u001b[0m\n\u001b[0;32m    227\u001b[0m     \u001b[1;32mdef\u001b[0m \u001b[0m__len__\u001b[0m\u001b[1;33m(\u001b[0m\u001b[0mself\u001b[0m\u001b[1;33m)\u001b[0m\u001b[1;33m:\u001b[0m\u001b[1;33m\u001b[0m\u001b[1;33m\u001b[0m\u001b[0m\n",
      "\u001b[1;32m~\\Anaconda3\\lib\\site-packages\\sklearn\\model_selection\\_validation.py\u001b[0m in \u001b[0;36m_fit_and_score\u001b[1;34m(estimator, X, y, scorer, train, test, verbose, parameters, fit_params, return_train_score, return_parameters, return_n_test_samples, return_times, return_estimator, error_score)\u001b[0m\n\u001b[0;32m    514\u001b[0m             \u001b[0mestimator\u001b[0m\u001b[1;33m.\u001b[0m\u001b[0mfit\u001b[0m\u001b[1;33m(\u001b[0m\u001b[0mX_train\u001b[0m\u001b[1;33m,\u001b[0m \u001b[1;33m**\u001b[0m\u001b[0mfit_params\u001b[0m\u001b[1;33m)\u001b[0m\u001b[1;33m\u001b[0m\u001b[1;33m\u001b[0m\u001b[0m\n\u001b[0;32m    515\u001b[0m         \u001b[1;32melse\u001b[0m\u001b[1;33m:\u001b[0m\u001b[1;33m\u001b[0m\u001b[1;33m\u001b[0m\u001b[0m\n\u001b[1;32m--> 516\u001b[1;33m             \u001b[0mestimator\u001b[0m\u001b[1;33m.\u001b[0m\u001b[0mfit\u001b[0m\u001b[1;33m(\u001b[0m\u001b[0mX_train\u001b[0m\u001b[1;33m,\u001b[0m \u001b[0my_train\u001b[0m\u001b[1;33m,\u001b[0m \u001b[1;33m**\u001b[0m\u001b[0mfit_params\u001b[0m\u001b[1;33m)\u001b[0m\u001b[1;33m\u001b[0m\u001b[1;33m\u001b[0m\u001b[0m\n\u001b[0m\u001b[0;32m    517\u001b[0m \u001b[1;33m\u001b[0m\u001b[0m\n\u001b[0;32m    518\u001b[0m     \u001b[1;32mexcept\u001b[0m \u001b[0mException\u001b[0m \u001b[1;32mas\u001b[0m \u001b[0me\u001b[0m\u001b[1;33m:\u001b[0m\u001b[1;33m\u001b[0m\u001b[1;33m\u001b[0m\u001b[0m\n",
      "\u001b[1;32m~\\Anaconda3\\lib\\site-packages\\sklearn\\ensemble\\forest.py\u001b[0m in \u001b[0;36mfit\u001b[1;34m(self, X, y, sample_weight)\u001b[0m\n\u001b[0;32m    328\u001b[0m                     \u001b[0mt\u001b[0m\u001b[1;33m,\u001b[0m \u001b[0mself\u001b[0m\u001b[1;33m,\u001b[0m \u001b[0mX\u001b[0m\u001b[1;33m,\u001b[0m \u001b[0my\u001b[0m\u001b[1;33m,\u001b[0m \u001b[0msample_weight\u001b[0m\u001b[1;33m,\u001b[0m \u001b[0mi\u001b[0m\u001b[1;33m,\u001b[0m \u001b[0mlen\u001b[0m\u001b[1;33m(\u001b[0m\u001b[0mtrees\u001b[0m\u001b[1;33m)\u001b[0m\u001b[1;33m,\u001b[0m\u001b[1;33m\u001b[0m\u001b[1;33m\u001b[0m\u001b[0m\n\u001b[0;32m    329\u001b[0m                     verbose=self.verbose, class_weight=self.class_weight)\n\u001b[1;32m--> 330\u001b[1;33m                 for i, t in enumerate(trees))\n\u001b[0m\u001b[0;32m    331\u001b[0m \u001b[1;33m\u001b[0m\u001b[0m\n\u001b[0;32m    332\u001b[0m             \u001b[1;31m# Collect newly grown trees\u001b[0m\u001b[1;33m\u001b[0m\u001b[1;33m\u001b[0m\u001b[1;33m\u001b[0m\u001b[0m\n",
      "\u001b[1;32m~\\Anaconda3\\lib\\site-packages\\joblib\\parallel.py\u001b[0m in \u001b[0;36m__call__\u001b[1;34m(self, iterable)\u001b[0m\n\u001b[0;32m    922\u001b[0m                 \u001b[0mself\u001b[0m\u001b[1;33m.\u001b[0m\u001b[0m_iterating\u001b[0m \u001b[1;33m=\u001b[0m \u001b[0mself\u001b[0m\u001b[1;33m.\u001b[0m\u001b[0m_original_iterator\u001b[0m \u001b[1;32mis\u001b[0m \u001b[1;32mnot\u001b[0m \u001b[1;32mNone\u001b[0m\u001b[1;33m\u001b[0m\u001b[1;33m\u001b[0m\u001b[0m\n\u001b[0;32m    923\u001b[0m \u001b[1;33m\u001b[0m\u001b[0m\n\u001b[1;32m--> 924\u001b[1;33m             \u001b[1;32mwhile\u001b[0m \u001b[0mself\u001b[0m\u001b[1;33m.\u001b[0m\u001b[0mdispatch_one_batch\u001b[0m\u001b[1;33m(\u001b[0m\u001b[0miterator\u001b[0m\u001b[1;33m)\u001b[0m\u001b[1;33m:\u001b[0m\u001b[1;33m\u001b[0m\u001b[1;33m\u001b[0m\u001b[0m\n\u001b[0m\u001b[0;32m    925\u001b[0m                 \u001b[1;32mpass\u001b[0m\u001b[1;33m\u001b[0m\u001b[1;33m\u001b[0m\u001b[0m\n\u001b[0;32m    926\u001b[0m \u001b[1;33m\u001b[0m\u001b[0m\n",
      "\u001b[1;32m~\\Anaconda3\\lib\\site-packages\\joblib\\parallel.py\u001b[0m in \u001b[0;36mdispatch_one_batch\u001b[1;34m(self, iterator)\u001b[0m\n\u001b[0;32m    757\u001b[0m                 \u001b[1;32mreturn\u001b[0m \u001b[1;32mFalse\u001b[0m\u001b[1;33m\u001b[0m\u001b[1;33m\u001b[0m\u001b[0m\n\u001b[0;32m    758\u001b[0m             \u001b[1;32melse\u001b[0m\u001b[1;33m:\u001b[0m\u001b[1;33m\u001b[0m\u001b[1;33m\u001b[0m\u001b[0m\n\u001b[1;32m--> 759\u001b[1;33m                 \u001b[0mself\u001b[0m\u001b[1;33m.\u001b[0m\u001b[0m_dispatch\u001b[0m\u001b[1;33m(\u001b[0m\u001b[0mtasks\u001b[0m\u001b[1;33m)\u001b[0m\u001b[1;33m\u001b[0m\u001b[1;33m\u001b[0m\u001b[0m\n\u001b[0m\u001b[0;32m    760\u001b[0m                 \u001b[1;32mreturn\u001b[0m \u001b[1;32mTrue\u001b[0m\u001b[1;33m\u001b[0m\u001b[1;33m\u001b[0m\u001b[0m\n\u001b[0;32m    761\u001b[0m \u001b[1;33m\u001b[0m\u001b[0m\n",
      "\u001b[1;32m~\\Anaconda3\\lib\\site-packages\\joblib\\parallel.py\u001b[0m in \u001b[0;36m_dispatch\u001b[1;34m(self, batch)\u001b[0m\n\u001b[0;32m    714\u001b[0m         \u001b[1;32mwith\u001b[0m \u001b[0mself\u001b[0m\u001b[1;33m.\u001b[0m\u001b[0m_lock\u001b[0m\u001b[1;33m:\u001b[0m\u001b[1;33m\u001b[0m\u001b[1;33m\u001b[0m\u001b[0m\n\u001b[0;32m    715\u001b[0m             \u001b[0mjob_idx\u001b[0m \u001b[1;33m=\u001b[0m \u001b[0mlen\u001b[0m\u001b[1;33m(\u001b[0m\u001b[0mself\u001b[0m\u001b[1;33m.\u001b[0m\u001b[0m_jobs\u001b[0m\u001b[1;33m)\u001b[0m\u001b[1;33m\u001b[0m\u001b[1;33m\u001b[0m\u001b[0m\n\u001b[1;32m--> 716\u001b[1;33m             \u001b[0mjob\u001b[0m \u001b[1;33m=\u001b[0m \u001b[0mself\u001b[0m\u001b[1;33m.\u001b[0m\u001b[0m_backend\u001b[0m\u001b[1;33m.\u001b[0m\u001b[0mapply_async\u001b[0m\u001b[1;33m(\u001b[0m\u001b[0mbatch\u001b[0m\u001b[1;33m,\u001b[0m \u001b[0mcallback\u001b[0m\u001b[1;33m=\u001b[0m\u001b[0mcb\u001b[0m\u001b[1;33m)\u001b[0m\u001b[1;33m\u001b[0m\u001b[1;33m\u001b[0m\u001b[0m\n\u001b[0m\u001b[0;32m    717\u001b[0m             \u001b[1;31m# A job can complete so quickly than its callback is\u001b[0m\u001b[1;33m\u001b[0m\u001b[1;33m\u001b[0m\u001b[1;33m\u001b[0m\u001b[0m\n\u001b[0;32m    718\u001b[0m             \u001b[1;31m# called before we get here, causing self._jobs to\u001b[0m\u001b[1;33m\u001b[0m\u001b[1;33m\u001b[0m\u001b[1;33m\u001b[0m\u001b[0m\n",
      "\u001b[1;32m~\\Anaconda3\\lib\\site-packages\\joblib\\_parallel_backends.py\u001b[0m in \u001b[0;36mapply_async\u001b[1;34m(self, func, callback)\u001b[0m\n\u001b[0;32m    180\u001b[0m     \u001b[1;32mdef\u001b[0m \u001b[0mapply_async\u001b[0m\u001b[1;33m(\u001b[0m\u001b[0mself\u001b[0m\u001b[1;33m,\u001b[0m \u001b[0mfunc\u001b[0m\u001b[1;33m,\u001b[0m \u001b[0mcallback\u001b[0m\u001b[1;33m=\u001b[0m\u001b[1;32mNone\u001b[0m\u001b[1;33m)\u001b[0m\u001b[1;33m:\u001b[0m\u001b[1;33m\u001b[0m\u001b[1;33m\u001b[0m\u001b[0m\n\u001b[0;32m    181\u001b[0m         \u001b[1;34m\"\"\"Schedule a func to be run\"\"\"\u001b[0m\u001b[1;33m\u001b[0m\u001b[1;33m\u001b[0m\u001b[0m\n\u001b[1;32m--> 182\u001b[1;33m         \u001b[0mresult\u001b[0m \u001b[1;33m=\u001b[0m \u001b[0mImmediateResult\u001b[0m\u001b[1;33m(\u001b[0m\u001b[0mfunc\u001b[0m\u001b[1;33m)\u001b[0m\u001b[1;33m\u001b[0m\u001b[1;33m\u001b[0m\u001b[0m\n\u001b[0m\u001b[0;32m    183\u001b[0m         \u001b[1;32mif\u001b[0m \u001b[0mcallback\u001b[0m\u001b[1;33m:\u001b[0m\u001b[1;33m\u001b[0m\u001b[1;33m\u001b[0m\u001b[0m\n\u001b[0;32m    184\u001b[0m             \u001b[0mcallback\u001b[0m\u001b[1;33m(\u001b[0m\u001b[0mresult\u001b[0m\u001b[1;33m)\u001b[0m\u001b[1;33m\u001b[0m\u001b[1;33m\u001b[0m\u001b[0m\n",
      "\u001b[1;32m~\\Anaconda3\\lib\\site-packages\\joblib\\_parallel_backends.py\u001b[0m in \u001b[0;36m__init__\u001b[1;34m(self, batch)\u001b[0m\n\u001b[0;32m    547\u001b[0m         \u001b[1;31m# Don't delay the application, to avoid keeping the input\u001b[0m\u001b[1;33m\u001b[0m\u001b[1;33m\u001b[0m\u001b[1;33m\u001b[0m\u001b[0m\n\u001b[0;32m    548\u001b[0m         \u001b[1;31m# arguments in memory\u001b[0m\u001b[1;33m\u001b[0m\u001b[1;33m\u001b[0m\u001b[1;33m\u001b[0m\u001b[0m\n\u001b[1;32m--> 549\u001b[1;33m         \u001b[0mself\u001b[0m\u001b[1;33m.\u001b[0m\u001b[0mresults\u001b[0m \u001b[1;33m=\u001b[0m \u001b[0mbatch\u001b[0m\u001b[1;33m(\u001b[0m\u001b[1;33m)\u001b[0m\u001b[1;33m\u001b[0m\u001b[1;33m\u001b[0m\u001b[0m\n\u001b[0m\u001b[0;32m    550\u001b[0m \u001b[1;33m\u001b[0m\u001b[0m\n\u001b[0;32m    551\u001b[0m     \u001b[1;32mdef\u001b[0m \u001b[0mget\u001b[0m\u001b[1;33m(\u001b[0m\u001b[0mself\u001b[0m\u001b[1;33m)\u001b[0m\u001b[1;33m:\u001b[0m\u001b[1;33m\u001b[0m\u001b[1;33m\u001b[0m\u001b[0m\n",
      "\u001b[1;32m~\\Anaconda3\\lib\\site-packages\\joblib\\parallel.py\u001b[0m in \u001b[0;36m__call__\u001b[1;34m(self)\u001b[0m\n\u001b[0;32m    223\u001b[0m         \u001b[1;32mwith\u001b[0m \u001b[0mparallel_backend\u001b[0m\u001b[1;33m(\u001b[0m\u001b[0mself\u001b[0m\u001b[1;33m.\u001b[0m\u001b[0m_backend\u001b[0m\u001b[1;33m,\u001b[0m \u001b[0mn_jobs\u001b[0m\u001b[1;33m=\u001b[0m\u001b[0mself\u001b[0m\u001b[1;33m.\u001b[0m\u001b[0m_n_jobs\u001b[0m\u001b[1;33m)\u001b[0m\u001b[1;33m:\u001b[0m\u001b[1;33m\u001b[0m\u001b[1;33m\u001b[0m\u001b[0m\n\u001b[0;32m    224\u001b[0m             return [func(*args, **kwargs)\n\u001b[1;32m--> 225\u001b[1;33m                     for func, args, kwargs in self.items]\n\u001b[0m\u001b[0;32m    226\u001b[0m \u001b[1;33m\u001b[0m\u001b[0m\n\u001b[0;32m    227\u001b[0m     \u001b[1;32mdef\u001b[0m \u001b[0m__len__\u001b[0m\u001b[1;33m(\u001b[0m\u001b[0mself\u001b[0m\u001b[1;33m)\u001b[0m\u001b[1;33m:\u001b[0m\u001b[1;33m\u001b[0m\u001b[1;33m\u001b[0m\u001b[0m\n",
      "\u001b[1;32m~\\Anaconda3\\lib\\site-packages\\joblib\\parallel.py\u001b[0m in \u001b[0;36m<listcomp>\u001b[1;34m(.0)\u001b[0m\n\u001b[0;32m    223\u001b[0m         \u001b[1;32mwith\u001b[0m \u001b[0mparallel_backend\u001b[0m\u001b[1;33m(\u001b[0m\u001b[0mself\u001b[0m\u001b[1;33m.\u001b[0m\u001b[0m_backend\u001b[0m\u001b[1;33m,\u001b[0m \u001b[0mn_jobs\u001b[0m\u001b[1;33m=\u001b[0m\u001b[0mself\u001b[0m\u001b[1;33m.\u001b[0m\u001b[0m_n_jobs\u001b[0m\u001b[1;33m)\u001b[0m\u001b[1;33m:\u001b[0m\u001b[1;33m\u001b[0m\u001b[1;33m\u001b[0m\u001b[0m\n\u001b[0;32m    224\u001b[0m             return [func(*args, **kwargs)\n\u001b[1;32m--> 225\u001b[1;33m                     for func, args, kwargs in self.items]\n\u001b[0m\u001b[0;32m    226\u001b[0m \u001b[1;33m\u001b[0m\u001b[0m\n\u001b[0;32m    227\u001b[0m     \u001b[1;32mdef\u001b[0m \u001b[0m__len__\u001b[0m\u001b[1;33m(\u001b[0m\u001b[0mself\u001b[0m\u001b[1;33m)\u001b[0m\u001b[1;33m:\u001b[0m\u001b[1;33m\u001b[0m\u001b[1;33m\u001b[0m\u001b[0m\n",
      "\u001b[1;32m~\\Anaconda3\\lib\\site-packages\\sklearn\\ensemble\\forest.py\u001b[0m in \u001b[0;36m_parallel_build_trees\u001b[1;34m(tree, forest, X, y, sample_weight, tree_idx, n_trees, verbose, class_weight)\u001b[0m\n\u001b[0;32m    116\u001b[0m             \u001b[0mcurr_sample_weight\u001b[0m \u001b[1;33m*=\u001b[0m \u001b[0mcompute_sample_weight\u001b[0m\u001b[1;33m(\u001b[0m\u001b[1;34m'balanced'\u001b[0m\u001b[1;33m,\u001b[0m \u001b[0my\u001b[0m\u001b[1;33m,\u001b[0m \u001b[0mindices\u001b[0m\u001b[1;33m)\u001b[0m\u001b[1;33m\u001b[0m\u001b[1;33m\u001b[0m\u001b[0m\n\u001b[0;32m    117\u001b[0m \u001b[1;33m\u001b[0m\u001b[0m\n\u001b[1;32m--> 118\u001b[1;33m         \u001b[0mtree\u001b[0m\u001b[1;33m.\u001b[0m\u001b[0mfit\u001b[0m\u001b[1;33m(\u001b[0m\u001b[0mX\u001b[0m\u001b[1;33m,\u001b[0m \u001b[0my\u001b[0m\u001b[1;33m,\u001b[0m \u001b[0msample_weight\u001b[0m\u001b[1;33m=\u001b[0m\u001b[0mcurr_sample_weight\u001b[0m\u001b[1;33m,\u001b[0m \u001b[0mcheck_input\u001b[0m\u001b[1;33m=\u001b[0m\u001b[1;32mFalse\u001b[0m\u001b[1;33m)\u001b[0m\u001b[1;33m\u001b[0m\u001b[1;33m\u001b[0m\u001b[0m\n\u001b[0m\u001b[0;32m    119\u001b[0m     \u001b[1;32melse\u001b[0m\u001b[1;33m:\u001b[0m\u001b[1;33m\u001b[0m\u001b[1;33m\u001b[0m\u001b[0m\n\u001b[0;32m    120\u001b[0m         \u001b[0mtree\u001b[0m\u001b[1;33m.\u001b[0m\u001b[0mfit\u001b[0m\u001b[1;33m(\u001b[0m\u001b[0mX\u001b[0m\u001b[1;33m,\u001b[0m \u001b[0my\u001b[0m\u001b[1;33m,\u001b[0m \u001b[0msample_weight\u001b[0m\u001b[1;33m=\u001b[0m\u001b[0msample_weight\u001b[0m\u001b[1;33m,\u001b[0m \u001b[0mcheck_input\u001b[0m\u001b[1;33m=\u001b[0m\u001b[1;32mFalse\u001b[0m\u001b[1;33m)\u001b[0m\u001b[1;33m\u001b[0m\u001b[1;33m\u001b[0m\u001b[0m\n",
      "\u001b[1;32m~\\Anaconda3\\lib\\site-packages\\sklearn\\tree\\tree.py\u001b[0m in \u001b[0;36mfit\u001b[1;34m(self, X, y, sample_weight, check_input, X_idx_sorted)\u001b[0m\n\u001b[0;32m   1155\u001b[0m             \u001b[0msample_weight\u001b[0m\u001b[1;33m=\u001b[0m\u001b[0msample_weight\u001b[0m\u001b[1;33m,\u001b[0m\u001b[1;33m\u001b[0m\u001b[1;33m\u001b[0m\u001b[0m\n\u001b[0;32m   1156\u001b[0m             \u001b[0mcheck_input\u001b[0m\u001b[1;33m=\u001b[0m\u001b[0mcheck_input\u001b[0m\u001b[1;33m,\u001b[0m\u001b[1;33m\u001b[0m\u001b[1;33m\u001b[0m\u001b[0m\n\u001b[1;32m-> 1157\u001b[1;33m             X_idx_sorted=X_idx_sorted)\n\u001b[0m\u001b[0;32m   1158\u001b[0m         \u001b[1;32mreturn\u001b[0m \u001b[0mself\u001b[0m\u001b[1;33m\u001b[0m\u001b[1;33m\u001b[0m\u001b[0m\n\u001b[0;32m   1159\u001b[0m \u001b[1;33m\u001b[0m\u001b[0m\n",
      "\u001b[1;32m~\\Anaconda3\\lib\\site-packages\\sklearn\\tree\\tree.py\u001b[0m in \u001b[0;36mfit\u001b[1;34m(self, X, y, sample_weight, check_input, X_idx_sorted)\u001b[0m\n\u001b[0;32m    378\u001b[0m                                            min_impurity_split)\n\u001b[0;32m    379\u001b[0m \u001b[1;33m\u001b[0m\u001b[0m\n\u001b[1;32m--> 380\u001b[1;33m         \u001b[0mbuilder\u001b[0m\u001b[1;33m.\u001b[0m\u001b[0mbuild\u001b[0m\u001b[1;33m(\u001b[0m\u001b[0mself\u001b[0m\u001b[1;33m.\u001b[0m\u001b[0mtree_\u001b[0m\u001b[1;33m,\u001b[0m \u001b[0mX\u001b[0m\u001b[1;33m,\u001b[0m \u001b[0my\u001b[0m\u001b[1;33m,\u001b[0m \u001b[0msample_weight\u001b[0m\u001b[1;33m,\u001b[0m \u001b[0mX_idx_sorted\u001b[0m\u001b[1;33m)\u001b[0m\u001b[1;33m\u001b[0m\u001b[1;33m\u001b[0m\u001b[0m\n\u001b[0m\u001b[0;32m    381\u001b[0m \u001b[1;33m\u001b[0m\u001b[0m\n\u001b[0;32m    382\u001b[0m         \u001b[1;32mif\u001b[0m \u001b[0mself\u001b[0m\u001b[1;33m.\u001b[0m\u001b[0mn_outputs_\u001b[0m \u001b[1;33m==\u001b[0m \u001b[1;36m1\u001b[0m\u001b[1;33m:\u001b[0m\u001b[1;33m\u001b[0m\u001b[1;33m\u001b[0m\u001b[0m\n",
      "\u001b[1;31mKeyboardInterrupt\u001b[0m: "
     ]
    }
   ],
   "source": [
    "from sklearn.ensemble import RandomForestRegressor\n",
    "tuned_parameters = [{'n_estimators': range(10,110,10),\n",
    "                     'max_depth': range(1,11),\n",
    "                     'min_impurity_decrease': range(0,10),\n",
    "                     'random_state': range(0,60,10)}]\n",
    "rf = GridSearchCV(RandomForestRegressor(), tuned_parameters, cv=4)\n",
    "rf.fit(X2_train, y_train)\n",
    "print(\"Best estimators found {}:\".format(rf.best_params_))"
   ]
  },
  {
   "cell_type": "code",
   "execution_count": 117,
   "metadata": {},
   "outputs": [
    {
     "name": "stdout",
     "output_type": "stream",
     "text": [
      "0.23054214593546254 0.3784743807716421\n"
     ]
    }
   ],
   "source": [
    "from sklearn.ensemble import RandomForestRegressor\n",
    "rf = RandomForestRegressor(n_estimators=100, max_depth=8, min_impurity_decrease=0, random_state=20)\n",
    "rf.fit(X2_train, y_train)\n",
    "rf.score(X2_test, y_test)\n",
    "\n",
    "y_predrf = rf.predict(X2_test)\n",
    "\n",
    "test_rf_rmse = (np.sqrt(mean_squared_error(y_test, y_predrf)))\n",
    "test_rf_r2 = r2_score(y_test, y_predrf)\n",
    "#adjr2_rf = 1 - (1-test_rf_r2)*((len(X_test) - 1)/(len(X_test) - len(X_test[0])))\n",
    "print(test_rf_rmse, test_rf_r2)"
   ]
  },
  {
   "cell_type": "code",
   "execution_count": null,
   "metadata": {},
   "outputs": [],
   "source": []
  },
  {
   "cell_type": "markdown",
   "metadata": {},
   "source": [
    "### Adaboost"
   ]
  },
  {
   "cell_type": "code",
   "execution_count": null,
   "metadata": {},
   "outputs": [],
   "source": [
    "from sklearn.ensemble import AdaBoostRegressor\n",
    "\n",
    "tuned_parameters = [{'n_estimators': range(10,110,10)}]\n",
    "ada = GridSearchCV(AdaBoostRegressor(), tuned_parameters, cv=4)\n",
    "ada.fit(X2_train, y_train)\n",
    "print(\"Best number of estimators found {}:\".format(ada.best_params_))"
   ]
  },
  {
   "cell_type": "code",
   "execution_count": 118,
   "metadata": {},
   "outputs": [
    {
     "name": "stdout",
     "output_type": "stream",
     "text": [
      "0.24773670235597595 0.28230639419468484\n"
     ]
    }
   ],
   "source": [
    "#best # estimators is 10\n",
    "from sklearn.ensemble import AdaBoostRegressor\n",
    "ada = AdaBoostRegressor(n_estimators=10)\n",
    "ada.fit(X2_train, y_train)\n",
    "ada.score(X2_test, y_test)\n",
    "\n",
    "y_predada = ada.predict(X2_test)\n",
    "\n",
    "test_ada_rmse = (np.sqrt(mean_squared_error(y_test, y_predada)))\n",
    "test_ada_r2 = r2_score(y_test, y_predada)\n",
    "#adjr2_ada = 1 - (1-test_ada_r2)*((len(X2_test) - 1)/(len(X2_test) - len(X2_test[0])))\n",
    "print(test_ada_rmse, test_ada_r2)"
   ]
  },
  {
   "cell_type": "code",
   "execution_count": null,
   "metadata": {},
   "outputs": [],
   "source": []
  },
  {
   "cell_type": "markdown",
   "metadata": {},
   "source": [
    "### SVR"
   ]
  },
  {
   "cell_type": "code",
   "execution_count": null,
   "metadata": {},
   "outputs": [],
   "source": [
    "from sklearn.svm import SVR\n",
    "\n",
    "#Hyperparameter tuning for gamma\n",
    "\n",
    "#tuned_parameters = [{'kernel': ['linear', 'poly', 'rbf']}]\n",
    "#                     'degree' : [1,2,3],\n",
    "#                     'gamma' : [0.01, 0.1,1,10],\n",
    "#                     'C': [0.01, 0.1,1,10]}]\n",
    "#svm = GridSearchCV(SVR(), tuned_parameters, cv=4)\n",
    "#svm.fit(X2_train, y_train)\n",
    "#print(\"Best estimators found {}:\".format(svm.best_params_))"
   ]
  },
  {
   "cell_type": "code",
   "execution_count": 119,
   "metadata": {},
   "outputs": [
    {
     "name": "stdout",
     "output_type": "stream",
     "text": [
      "0.24367741345302532 0.3056332369123079\n"
     ]
    }
   ],
   "source": [
    "from sklearn.svm import SVR\n",
    "svm = SVR(kernel='poly', degree=1, gamma=0.01, C=0.1)\n",
    "svm.fit(X_train_scaled,y_train)\n",
    "y_pred_svm=svm.predict(X_test_scaled)\n",
    "\n",
    "\n",
    "test_svm_rmse = (np.sqrt(mean_squared_error(y_test, y_pred_svm)))\n",
    "test_svm_r2 = r2_score(y_test, y_pred_svm)\n",
    "#adjr2_svm = 1 - (1-test_svm_r2)*((len(X_test) - 1)/(len(X_test) - len(X_test[0])))\n",
    "print(test_svm_rmse, test_svm_r2)"
   ]
  },
  {
   "cell_type": "markdown",
   "metadata": {},
   "source": [
    "### Model validation"
   ]
  },
  {
   "cell_type": "code",
   "execution_count": 120,
   "metadata": {},
   "outputs": [
    {
     "name": "stdout",
     "output_type": "stream",
     "text": [
      "Cross-validated scores: [0.3241446  0.32880153 0.32899328 0.33281945]\n"
     ]
    }
   ],
   "source": [
    "#preprocessing\n",
    "X_scaled = sc.fit_transform(X)\n",
    "\n",
    "# Perform 4-fold cross validation\n",
    "scores = cross_val_score(lr, X_scaled, y, cv=4)\n",
    "print ('Cross-validated scores:', scores)"
   ]
  },
  {
   "cell_type": "code",
   "execution_count": null,
   "metadata": {},
   "outputs": [],
   "source": []
  },
  {
   "cell_type": "code",
   "execution_count": 121,
   "metadata": {},
   "outputs": [],
   "source": [
    "df = {'model_name':  ['Linear Regression', 'KNN', 'Random Forest', 'Adaboost', 'SVR'],\n",
    "        'R2 score': [r2_lr_score, test_knn_r2,test_rf_r2, test_ada_r2, test_svm_r2],\n",
    "         'RMSE': [test_lr_rmse, test_knn_rmse, test_rf_rmse, test_ada_rmse, test_svm_rmse]\n",
    "        }\n",
    "\n",
    "models_df = pd.DataFrame (df, columns = ['model_name','R2 score', 'RMSE'])"
   ]
  },
  {
   "cell_type": "code",
   "execution_count": 122,
   "metadata": {
    "scrolled": true
   },
   "outputs": [
    {
     "data": {
      "text/html": [
       "<div>\n",
       "<style scoped>\n",
       "    .dataframe tbody tr th:only-of-type {\n",
       "        vertical-align: middle;\n",
       "    }\n",
       "\n",
       "    .dataframe tbody tr th {\n",
       "        vertical-align: top;\n",
       "    }\n",
       "\n",
       "    .dataframe thead th {\n",
       "        text-align: right;\n",
       "    }\n",
       "</style>\n",
       "<table border=\"1\" class=\"dataframe\">\n",
       "  <thead>\n",
       "    <tr style=\"text-align: right;\">\n",
       "      <th></th>\n",
       "      <th>model_name</th>\n",
       "      <th>R2 score</th>\n",
       "      <th>RMSE</th>\n",
       "    </tr>\n",
       "  </thead>\n",
       "  <tbody>\n",
       "    <tr>\n",
       "      <td>0</td>\n",
       "      <td>Linear Regression</td>\n",
       "      <td>0.271929</td>\n",
       "      <td>0.249521</td>\n",
       "    </tr>\n",
       "    <tr>\n",
       "      <td>1</td>\n",
       "      <td>KNN</td>\n",
       "      <td>0.272222</td>\n",
       "      <td>0.249471</td>\n",
       "    </tr>\n",
       "    <tr>\n",
       "      <td>2</td>\n",
       "      <td>Random Forest</td>\n",
       "      <td>0.378474</td>\n",
       "      <td>0.230542</td>\n",
       "    </tr>\n",
       "    <tr>\n",
       "      <td>3</td>\n",
       "      <td>Adaboost</td>\n",
       "      <td>0.282306</td>\n",
       "      <td>0.247737</td>\n",
       "    </tr>\n",
       "    <tr>\n",
       "      <td>4</td>\n",
       "      <td>SVR</td>\n",
       "      <td>0.305633</td>\n",
       "      <td>0.243677</td>\n",
       "    </tr>\n",
       "  </tbody>\n",
       "</table>\n",
       "</div>"
      ],
      "text/plain": [
       "          model_name  R2 score      RMSE\n",
       "0  Linear Regression  0.271929  0.249521\n",
       "1                KNN  0.272222  0.249471\n",
       "2      Random Forest  0.378474  0.230542\n",
       "3           Adaboost  0.282306  0.247737\n",
       "4                SVR  0.305633  0.243677"
      ]
     },
     "execution_count": 122,
     "metadata": {},
     "output_type": "execute_result"
    }
   ],
   "source": [
    "models_df.head() "
   ]
  },
  {
   "cell_type": "code",
   "execution_count": 123,
   "metadata": {
    "scrolled": true
   },
   "outputs": [
    {
     "name": "stdout",
     "output_type": "stream",
     "text": [
      "model_name  Adaboost  KNN  Linear Regression  Random Forest  SVR\n",
      "R2 score                                                        \n",
      "0.271929           0    0                  1              0    0\n",
      "0.272222           0    1                  0              0    0\n",
      "0.282306           1    0                  0              0    0\n",
      "0.305633           0    0                  0              0    1\n",
      "0.378474           0    0                  0              1    0\n"
     ]
    }
   ],
   "source": [
    "models = pd.crosstab(models_df['R2 score'], models_df['model_name'])\n",
    "print(models)"
   ]
  },
  {
   "cell_type": "code",
   "execution_count": 124,
   "metadata": {
    "scrolled": true
   },
   "outputs": [
    {
     "data": {
      "image/png": "[encoded data removed]",
      "text/plain": [
       "<Figure size 504x216 with 1 Axes>"
      ]
     },
     "metadata": {
      "needs_background": "light"
     },
     "output_type": "display_data"
    }
   ],
   "source": [
    "plt.bar(models_df['model_name'], models_df['R2 score'], color = 'red')\n",
    "plt.title('Coeffecient of determination \\n of each model (R2 Score)\\n')\n",
    "plt.xlabel('Models')\n",
    "plt.ylabel('R2 Score')\n",
    "plt.show()"
   ]
  },
  {
   "cell_type": "code",
   "execution_count": 125,
   "metadata": {
    "scrolled": false
   },
   "outputs": [
    {
     "data": {
      "image/png": "[encoded data removed]",
      "text/plain": [
       "<Figure size 504x216 with 1 Axes>"
      ]
     },
     "metadata": {
      "needs_background": "light"
     },
     "output_type": "display_data"
    }
   ],
   "source": [
    "plt.bar(models_df['model_name'], models_df['RMSE'], color = 'green')\n",
    "plt.title('Root Mean Squared Error \\n of each model (RMSE)\\n')\n",
    "plt.xlabel('Models')\n",
    "plt.ylabel('RMSE')\n",
    "plt.show()"
   ]
  },
  {
   "cell_type": "code",
   "execution_count": null,
   "metadata": {},
   "outputs": [],
   "source": []
  },
  {
   "cell_type": "markdown",
   "metadata": {},
   "source": [
    "### Model Deployment"
   ]
  },
  {
   "cell_type": "code",
   "execution_count": 126,
   "metadata": {},
   "outputs": [],
   "source": [
    "predict_data_2 = predict_data"
   ]
  },
  {
   "cell_type": "code",
   "execution_count": 127,
   "metadata": {},
   "outputs": [],
   "source": [
    "predict_data_2 = predict_data_2.drop(['active_bank_user', 'active_formal_nbfi_user', 'active_informal_nbfi_user', 'active_mm_user', \n",
    "                          'advanced_phone_use', 'avg_shock_strength_last_year', 'borrowed_for_daily_expenses_last_year',\n",
    "                          'borrowed_for_emergency_last_year', 'borrowed_for_home_or_biz_last_year', 'borrowing_recency', \n",
    "                          'can_add', 'can_calc_compounding', 'can_calc_percents', 'can_call', 'can_divide', 'can_make_transaction', \n",
    "                          'can_text', 'can_use_internet', 'cash_property_savings', 'employed_last_year', 'employment_category_last_year',\n",
    "                          'employment_type_last_year', 'female', 'financially_included', 'formal_savings', 'has_insurance', \n",
    "                          'income_ag_livestock_last_year', 'income_government_last_year', 'income_own_business_last_year',\n",
    "                          'income_private_sector_last_year', 'income_public_sector_last_year', 'informal_savings', 'literacy',\n",
    "                          'nonreg_active_mm_user', 'num_financial_activities_last_year', 'num_formal_institutions_last_year', \n",
    "                          'num_informal_institutions_last_year', 'num_times_borrowed_last_year', 'phone_technology', \n",
    "                          'reg_bank_acct', 'reg_formal_nbfi_account', 'relationship_to_hh_head', 'religion', 'row_id', \n",
    "                          'share_hh_income_provided', 'source'], axis=1)"
   ]
  },
  {
   "cell_type": "code",
   "execution_count": 128,
   "metadata": {},
   "outputs": [],
   "source": [
    "predict_data_2 = predict_data_2.drop('poverty_probability', axis = 1)"
   ]
  },
  {
   "cell_type": "code",
   "execution_count": 129,
   "metadata": {},
   "outputs": [
    {
     "data": {
      "text/plain": [
       "(8059, 10)"
      ]
     },
     "execution_count": 129,
     "metadata": {},
     "output_type": "execute_result"
    }
   ],
   "source": [
    "predict_data_2.shape"
   ]
  },
  {
   "cell_type": "code",
   "execution_count": 130,
   "metadata": {},
   "outputs": [],
   "source": [
    "const = 1"
   ]
  },
  {
   "cell_type": "code",
   "execution_count": 131,
   "metadata": {},
   "outputs": [],
   "source": [
    "predict_data_2['const'] = 1"
   ]
  },
  {
   "cell_type": "code",
   "execution_count": 132,
   "metadata": {},
   "outputs": [],
   "source": [
    "predict_data_2['poverty_probability'] = rf.predict(predict_data_2)"
   ]
  },
  {
   "cell_type": "code",
   "execution_count": 133,
   "metadata": {},
   "outputs": [
    {
     "data": {
      "image/png": "[encoded data removed]",
      "text/plain": [
       "<Figure size 504x216 with 1 Axes>"
      ]
     },
     "metadata": {
      "needs_background": "light"
     },
     "output_type": "display_data"
    }
   ],
   "source": [
    "predict_data_2['poverty_probability'].hist()\n",
    "plt.title('Probability Distribution \\n')\n",
    "plt.xlabel('Probability')\n",
    "plt.ylabel('Frequency')\n",
    "plt.show()"
   ]
  }
 ],
 "metadata": {
  "kernelspec": {
   "display_name": "Python 3",
   "language": "python",
   "name": "python3"
  },
  "language_info": {
   "codemirror_mode": {
    "name": "ipython",
    "version": 3
   },
   "file_extension": ".py",
   "mimetype": "text/x-python",
   "name": "python",
   "nbconvert_exporter": "python",
   "pygments_lexer": "ipython3",
   "version": "3.7.4"
  }
 },
 "nbformat": 4,
 "nbformat_minor": 2
}
